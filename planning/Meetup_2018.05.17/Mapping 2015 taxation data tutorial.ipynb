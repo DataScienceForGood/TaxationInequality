{
 "cells": [
  {
   "cell_type": "markdown",
   "metadata": {
    "nbpresent": {
     "id": "ad655369-d931-4506-ade8-40ea6cdf81e3"
    },
    "slideshow": {
     "slide_type": "slide"
    }
   },
   "source": [
    "# Import libraries"
   ]
  },
  {
   "cell_type": "code",
   "execution_count": 1,
   "metadata": {
    "nbpresent": {
     "id": "d54a70b5-cfb0-4b0c-96ae-7c390c570c57"
    },
    "slideshow": {
     "slide_type": "fragment"
    }
   },
   "outputs": [],
   "source": [
    "# - Import required Python modules\n",
    "import geopandas as gpd\n",
    "import pandas as pd\n",
    "import matplotlib.pyplot as plt\n",
    "import numpy as np\n",
    "import csv"
   ]
  },
  {
   "cell_type": "code",
   "execution_count": 2,
   "metadata": {
    "nbpresent": {
     "id": "7c7dfe48-52a2-40b9-808a-14ad3b4e438c"
    },
    "slideshow": {
     "slide_type": "fragment"
    }
   },
   "outputs": [],
   "source": [
    "# - Import our custom code for importing data\n",
    "import os,sys,inspect\n",
    "sys.path.insert(0, os.path.abspath(os.path.join(os.getcwd(), '../../code/mapping'))) \n",
    "\n",
    "import read_data as rd"
   ]
  },
  {
   "cell_type": "markdown",
   "metadata": {},
   "source": [
    "# Read income, assets and taxation data"
   ]
  },
  {
   "cell_type": "code",
   "execution_count": 3,
   "metadata": {
    "nbpresent": {
     "id": "21f2cb5b-aee9-41f1-8126-11e92911e3ab"
    },
    "slideshow": {
     "slide_type": "slide"
    }
   },
   "outputs": [
    {
     "name": "stderr",
     "output_type": "stream",
     "text": [
      "/anaconda3/envs/py36_gis/lib/python3.6/site-packages/pandas/util/_decorators.py:177: FutureWarning: the 'skip_footer' keyword is deprecated, use 'skipfooter' instead\n",
      "  return func(*args, **kwargs)\n"
     ]
    }
   ],
   "source": [
    "# - Read map and 2015 tax data\n",
    "gdfMap = rd.read_WV_map()\n",
    "dfIncome = rd.read_2015_income()\n",
    "dfAssets = rd.read_2015_assets()\n",
    "\n",
    "# - Read mappings between IDs and descriptors\n",
    "(dfMap_WVid_name, dfMapWVid_geoID, dfMapICid, dfMapACid) = rd.read_2015_mappings()"
   ]
  },
  {
   "cell_type": "markdown",
   "metadata": {},
   "source": [
    "`GeoPandas` is a package for interpreting and manipulating map geometry data, alongside other data about map locations. Here we have a variable `gdfMap`, containing the area boundaries for the Basel-Stadt Wohnviertel (suburbs). The function `rd.read_WV_map()` does all the hard work of locating the files and importing them. We can have a look at the data using the `.head()` method:"
   ]
  },
  {
   "cell_type": "code",
   "execution_count": 4,
   "metadata": {},
   "outputs": [
    {
     "data": {
      "text/html": [
       "<div>\n",
       "<style scoped>\n",
       "    .dataframe tbody tr th:only-of-type {\n",
       "        vertical-align: middle;\n",
       "    }\n",
       "\n",
       "    .dataframe tbody tr th {\n",
       "        vertical-align: top;\n",
       "    }\n",
       "\n",
       "    .dataframe thead th {\n",
       "        text-align: right;\n",
       "    }\n",
       "</style>\n",
       "<table border=\"1\" class=\"dataframe\">\n",
       "  <thead>\n",
       "    <tr style=\"text-align: right;\">\n",
       "      <th></th>\n",
       "      <th>OBJID</th>\n",
       "      <th>OBJECTID</th>\n",
       "      <th>TXT</th>\n",
       "      <th>ZTXT</th>\n",
       "      <th>TYPE</th>\n",
       "      <th>geometry</th>\n",
       "    </tr>\n",
       "  </thead>\n",
       "  <tbody>\n",
       "    <tr>\n",
       "      <th>0</th>\n",
       "      <td>17136</td>\n",
       "      <td>1</td>\n",
       "      <td>7</td>\n",
       "      <td>07</td>\n",
       "      <td>Bruderholz</td>\n",
       "      <td>POLYGON ((2612555.909 1264547.542, 2612560.552...</td>\n",
       "    </tr>\n",
       "    <tr>\n",
       "      <th>1</th>\n",
       "      <td>17139</td>\n",
       "      <td>2</td>\n",
       "      <td>6</td>\n",
       "      <td>06</td>\n",
       "      <td>Gundeldingen</td>\n",
       "      <td>POLYGON ((2610887.105 1266551.468, 2610896.202...</td>\n",
       "    </tr>\n",
       "    <tr>\n",
       "      <th>2</th>\n",
       "      <td>17142</td>\n",
       "      <td>3</td>\n",
       "      <td>5</td>\n",
       "      <td>05</td>\n",
       "      <td>St. Alban</td>\n",
       "      <td>POLYGON ((2612941.971 1267023.045, 2613000.085...</td>\n",
       "    </tr>\n",
       "    <tr>\n",
       "      <th>3</th>\n",
       "      <td>17145</td>\n",
       "      <td>4</td>\n",
       "      <td>4</td>\n",
       "      <td>04</td>\n",
       "      <td>Breite</td>\n",
       "      <td>POLYGON ((2613683.78 1266891.09, 2613686.423 1...</td>\n",
       "    </tr>\n",
       "    <tr>\n",
       "      <th>4</th>\n",
       "      <td>17148</td>\n",
       "      <td>5</td>\n",
       "      <td>8</td>\n",
       "      <td>08</td>\n",
       "      <td>Bachletten</td>\n",
       "      <td>POLYGON ((2610560.968 1266791.31, 2610571.054 ...</td>\n",
       "    </tr>\n",
       "  </tbody>\n",
       "</table>\n",
       "</div>"
      ],
      "text/plain": [
       "   OBJID  OBJECTID TXT ZTXT          TYPE  \\\n",
       "0  17136         1   7   07    Bruderholz   \n",
       "1  17139         2   6   06  Gundeldingen   \n",
       "2  17142         3   5   05     St. Alban   \n",
       "3  17145         4   4   04        Breite   \n",
       "4  17148         5   8   08    Bachletten   \n",
       "\n",
       "                                            geometry  \n",
       "0  POLYGON ((2612555.909 1264547.542, 2612560.552...  \n",
       "1  POLYGON ((2610887.105 1266551.468, 2610896.202...  \n",
       "2  POLYGON ((2612941.971 1267023.045, 2613000.085...  \n",
       "3  POLYGON ((2613683.78 1266891.09, 2613686.423 1...  \n",
       "4  POLYGON ((2610560.968 1266791.31, 2610571.054 ...  "
      ]
     },
     "execution_count": 4,
     "metadata": {},
     "output_type": "execute_result"
    }
   ],
   "source": [
    "gdfMap.head()"
   ]
  },
  {
   "cell_type": "markdown",
   "metadata": {},
   "source": [
    "Likewise, the functions `rd.read_2015_income()` and `...assets()` import data for income, assets and taxation, broken down by Wohnviertel."
   ]
  },
  {
   "cell_type": "code",
   "execution_count": 5,
   "metadata": {},
   "outputs": [
    {
     "data": {
      "text/html": [
       "<div>\n",
       "<style scoped>\n",
       "    .dataframe tbody tr th:only-of-type {\n",
       "        vertical-align: middle;\n",
       "    }\n",
       "\n",
       "    .dataframe tbody tr th {\n",
       "        vertical-align: top;\n",
       "    }\n",
       "\n",
       "    .dataframe thead th {\n",
       "        text-align: right;\n",
       "    }\n",
       "</style>\n",
       "<table border=\"1\" class=\"dataframe\">\n",
       "  <thead>\n",
       "    <tr style=\"text-align: right;\">\n",
       "      <th></th>\n",
       "      <th>wohnviertel_id</th>\n",
       "      <th>Wohnviertel</th>\n",
       "      <th>incomeclass_id</th>\n",
       "      <th>Income class</th>\n",
       "      <th>num_declarations</th>\n",
       "      <th>total_income</th>\n",
       "      <th>total_income_tax</th>\n",
       "    </tr>\n",
       "  </thead>\n",
       "  <tbody>\n",
       "    <tr>\n",
       "      <th>0</th>\n",
       "      <td>1</td>\n",
       "      <td>Altstadt Grossbasel</td>\n",
       "      <td>1</td>\n",
       "      <td>0 to 29'999</td>\n",
       "      <td>640</td>\n",
       "      <td>7257907</td>\n",
       "      <td>113268</td>\n",
       "    </tr>\n",
       "    <tr>\n",
       "      <th>1</th>\n",
       "      <td>1</td>\n",
       "      <td>Altstadt Grossbasel</td>\n",
       "      <td>2</td>\n",
       "      <td>30'000 to 59'999</td>\n",
       "      <td>271</td>\n",
       "      <td>12238573</td>\n",
       "      <td>1399279</td>\n",
       "    </tr>\n",
       "    <tr>\n",
       "      <th>2</th>\n",
       "      <td>1</td>\n",
       "      <td>Altstadt Grossbasel</td>\n",
       "      <td>3</td>\n",
       "      <td>60'000 to 89'999</td>\n",
       "      <td>245</td>\n",
       "      <td>18121653</td>\n",
       "      <td>2831659</td>\n",
       "    </tr>\n",
       "    <tr>\n",
       "      <th>3</th>\n",
       "      <td>1</td>\n",
       "      <td>Altstadt Grossbasel</td>\n",
       "      <td>4</td>\n",
       "      <td>90'000 to 119'999</td>\n",
       "      <td>149</td>\n",
       "      <td>15385085</td>\n",
       "      <td>2526420</td>\n",
       "    </tr>\n",
       "    <tr>\n",
       "      <th>4</th>\n",
       "      <td>1</td>\n",
       "      <td>Altstadt Grossbasel</td>\n",
       "      <td>5</td>\n",
       "      <td>more than 120'000</td>\n",
       "      <td>370</td>\n",
       "      <td>111343117</td>\n",
       "      <td>21030480</td>\n",
       "    </tr>\n",
       "  </tbody>\n",
       "</table>\n",
       "</div>"
      ],
      "text/plain": [
       "   wohnviertel_id          Wohnviertel  incomeclass_id      Income class   \\\n",
       "0               1  Altstadt Grossbasel               1        0 to 29'999   \n",
       "1               1  Altstadt Grossbasel               2   30'000 to 59'999   \n",
       "2               1  Altstadt Grossbasel               3   60'000 to 89'999   \n",
       "3               1  Altstadt Grossbasel               4  90'000 to 119'999   \n",
       "4               1  Altstadt Grossbasel               5  more than 120'000   \n",
       "\n",
       "   num_declarations  total_income  total_income_tax  \n",
       "0               640       7257907            113268  \n",
       "1               271      12238573           1399279  \n",
       "2               245      18121653           2831659  \n",
       "3               149      15385085           2526420  \n",
       "4               370     111343117          21030480  "
      ]
     },
     "execution_count": 5,
     "metadata": {},
     "output_type": "execute_result"
    }
   ],
   "source": [
    "dfIncome.head()"
   ]
  },
  {
   "cell_type": "code",
   "execution_count": 6,
   "metadata": {},
   "outputs": [
    {
     "data": {
      "text/html": [
       "<div>\n",
       "<style scoped>\n",
       "    .dataframe tbody tr th:only-of-type {\n",
       "        vertical-align: middle;\n",
       "    }\n",
       "\n",
       "    .dataframe tbody tr th {\n",
       "        vertical-align: top;\n",
       "    }\n",
       "\n",
       "    .dataframe thead th {\n",
       "        text-align: right;\n",
       "    }\n",
       "</style>\n",
       "<table border=\"1\" class=\"dataframe\">\n",
       "  <thead>\n",
       "    <tr style=\"text-align: right;\">\n",
       "      <th></th>\n",
       "      <th>wohnviertel_id</th>\n",
       "      <th>Wohnviertel</th>\n",
       "      <th>assetclass_id</th>\n",
       "      <th>Asset class</th>\n",
       "      <th>num_declarations</th>\n",
       "      <th>total_assets</th>\n",
       "      <th>total_asset_tax</th>\n",
       "    </tr>\n",
       "  </thead>\n",
       "  <tbody>\n",
       "    <tr>\n",
       "      <th>0</th>\n",
       "      <td>1</td>\n",
       "      <td>Altstadt Grossbasel</td>\n",
       "      <td>1</td>\n",
       "      <td>0 to 49'999</td>\n",
       "      <td>945</td>\n",
       "      <td>11427211</td>\n",
       "      <td>68</td>\n",
       "    </tr>\n",
       "    <tr>\n",
       "      <th>1</th>\n",
       "      <td>1</td>\n",
       "      <td>Altstadt Grossbasel</td>\n",
       "      <td>2</td>\n",
       "      <td>50'000 to 99'999</td>\n",
       "      <td>153</td>\n",
       "      <td>10863042</td>\n",
       "      <td>1148</td>\n",
       "    </tr>\n",
       "    <tr>\n",
       "      <th>2</th>\n",
       "      <td>1</td>\n",
       "      <td>Altstadt Grossbasel</td>\n",
       "      <td>3</td>\n",
       "      <td>100'000 to 299'999</td>\n",
       "      <td>197</td>\n",
       "      <td>35659740</td>\n",
       "      <td>59634</td>\n",
       "    </tr>\n",
       "    <tr>\n",
       "      <th>3</th>\n",
       "      <td>1</td>\n",
       "      <td>Altstadt Grossbasel</td>\n",
       "      <td>4</td>\n",
       "      <td>300'000 to 599'999</td>\n",
       "      <td>132</td>\n",
       "      <td>57970452</td>\n",
       "      <td>182471</td>\n",
       "    </tr>\n",
       "    <tr>\n",
       "      <th>4</th>\n",
       "      <td>1</td>\n",
       "      <td>Altstadt Grossbasel</td>\n",
       "      <td>5</td>\n",
       "      <td>more than 700'000</td>\n",
       "      <td>248</td>\n",
       "      <td>1584480288</td>\n",
       "      <td>8993661</td>\n",
       "    </tr>\n",
       "  </tbody>\n",
       "</table>\n",
       "</div>"
      ],
      "text/plain": [
       "   wohnviertel_id          Wohnviertel  assetclass_id        Asset class   \\\n",
       "0               1  Altstadt Grossbasel              1         0 to 49'999   \n",
       "1               1  Altstadt Grossbasel              2    50'000 to 99'999   \n",
       "2               1  Altstadt Grossbasel              3  100'000 to 299'999   \n",
       "3               1  Altstadt Grossbasel              4  300'000 to 599'999   \n",
       "4               1  Altstadt Grossbasel              5   more than 700'000   \n",
       "\n",
       "   num_declarations  total_assets  total_asset_tax  \n",
       "0               945      11427211               68  \n",
       "1               153      10863042             1148  \n",
       "2               197      35659740            59634  \n",
       "3               132      57970452           182471  \n",
       "4               248    1584480288          8993661  "
      ]
     },
     "execution_count": 6,
     "metadata": {},
     "output_type": "execute_result"
    }
   ],
   "source": [
    "dfAssets.head()"
   ]
  },
  {
   "cell_type": "markdown",
   "metadata": {},
   "source": [
    "These data frames have various IDs (`wohnviertel_id`, `incomeclass_id`, `assetclass_id`) which define enumerations. There are also data in CHF about total income and assests, tax, etc. The variables `dfMap...` specify how to relate various enumerations. Of particular importance is how to map between `wohnviertel_id` and `geo_worhnviertel_id` (which is the `OBJECTID` column in the map data above)."
   ]
  },
  {
   "cell_type": "code",
   "execution_count": 7,
   "metadata": {},
   "outputs": [
    {
     "data": {
      "text/html": [
       "<div>\n",
       "<style scoped>\n",
       "    .dataframe tbody tr th:only-of-type {\n",
       "        vertical-align: middle;\n",
       "    }\n",
       "\n",
       "    .dataframe tbody tr th {\n",
       "        vertical-align: top;\n",
       "    }\n",
       "\n",
       "    .dataframe thead th {\n",
       "        text-align: right;\n",
       "    }\n",
       "</style>\n",
       "<table border=\"1\" class=\"dataframe\">\n",
       "  <thead>\n",
       "    <tr style=\"text-align: right;\">\n",
       "      <th></th>\n",
       "      <th>wohnviertel_id</th>\n",
       "      <th>geo_wohnviertel_id</th>\n",
       "      <th>Wohnviertel</th>\n",
       "    </tr>\n",
       "  </thead>\n",
       "  <tbody>\n",
       "    <tr>\n",
       "      <th>0</th>\n",
       "      <td>1</td>\n",
       "      <td>7</td>\n",
       "      <td>Altstadt Grossbasel</td>\n",
       "    </tr>\n",
       "    <tr>\n",
       "      <th>1</th>\n",
       "      <td>2</td>\n",
       "      <td>6</td>\n",
       "      <td>Vorstaedte</td>\n",
       "    </tr>\n",
       "    <tr>\n",
       "      <th>2</th>\n",
       "      <td>3</td>\n",
       "      <td>8</td>\n",
       "      <td>Am Ring</td>\n",
       "    </tr>\n",
       "    <tr>\n",
       "      <th>3</th>\n",
       "      <td>4</td>\n",
       "      <td>4</td>\n",
       "      <td>Breite</td>\n",
       "    </tr>\n",
       "    <tr>\n",
       "      <th>4</th>\n",
       "      <td>5</td>\n",
       "      <td>3</td>\n",
       "      <td>St. Alban</td>\n",
       "    </tr>\n",
       "  </tbody>\n",
       "</table>\n",
       "</div>"
      ],
      "text/plain": [
       "   wohnviertel_id  geo_wohnviertel_id          Wohnviertel\n",
       "0               1                   7  Altstadt Grossbasel\n",
       "1               2                   6           Vorstaedte\n",
       "2               3                   8              Am Ring\n",
       "3               4                   4               Breite\n",
       "4               5                   3            St. Alban"
      ]
     },
     "execution_count": 7,
     "metadata": {},
     "output_type": "execute_result"
    }
   ],
   "source": [
    "dfMapWVid_geoID.head()"
   ]
  },
  {
   "cell_type": "markdown",
   "metadata": {},
   "source": [
    "# Combining taxation data and the map\n",
    "Now that we know how to imoport the data, let's draw a map of income / taxation across Basel Stadt. We first need to compute the total income per Wohnviertel, since this is currently broken down by asset class. We do this by defining some simple index functions, which return the rows of `dfIncome` that correspond to particular Wohnviertel (`WV`) or income class (`IC`)."
   ]
  },
  {
   "cell_type": "code",
   "execution_count": 8,
   "metadata": {},
   "outputs": [],
   "source": [
    "# - Get unique Wohnviertel IDs\n",
    "vnWVIDs = pd.unique(dfIncome['wohnviertel_id'])\n",
    "\n",
    "# - Get total income tax for each wohnviertel\n",
    "def find_WV(wv_id):\n",
    "    return dfIncome.wohnviertel_id.map(lambda i: i == wv_id)\n",
    "\n",
    "def find_IC(ic_id):\n",
    "    return dfIncome.incomeclass_id.map(lambda i: i == ic_id)\n",
    "\n",
    "# - Compute totals for income for each WV\n",
    "vfWVTotalIncome = [sum(dfIncome.loc[find_WV(id), 'total_income'])\n",
    "                   for id in vnWVIDs]"
   ]
  },
  {
   "cell_type": "markdown",
   "metadata": {},
   "source": [
    "Let's plot the total income per Wohnviertel to take a look at it."
   ]
  },
  {
   "cell_type": "code",
   "execution_count": 9,
   "metadata": {},
   "outputs": [
    {
     "data": {
      "text/plain": [
       "Text(0.5,1,'Total income per Wohnviertel')"
      ]
     },
     "execution_count": 9,
     "metadata": {},
     "output_type": "execute_result"
    },
    {
     "data": {
      "image/png": "[encoded data removed]",
      "text/plain": [
       "<Figure size 432x288 with 1 Axes>"
      ]
     },
     "metadata": {},
     "output_type": "display_data"
    }
   ],
   "source": [
    "# - Make a plot of total income\n",
    "plt.plot(vnWVIDs, np.array(vfWVTotalIncome) / 1e6, '.')\n",
    "plt.xlabel('Wohnviertel ID')\n",
    "plt.ylabel('Total income (million CHF)')\n",
    "plt.title('Total income per Wohnviertel')"
   ]
  },
  {
   "cell_type": "markdown",
   "metadata": {},
   "source": [
    "Woah, one Wohnviertel has a much higher total income than the others! Let's find out which one that is."
   ]
  },
  {
   "cell_type": "code",
   "execution_count": 10,
   "metadata": {},
   "outputs": [
    {
     "ename": "NameError",
     "evalue": "name 'vfWVTotalIncomeTax' is not defined",
     "output_type": "error",
     "traceback": [
      "\u001b[0;31m---------------------------------------------------------------------------\u001b[0m",
      "\u001b[0;31mNameError\u001b[0m                                 Traceback (most recent call last)",
      "\u001b[0;32m<ipython-input-10-d5b686bc162e>\u001b[0m in \u001b[0;36m<module>\u001b[0;34m()\u001b[0m\n\u001b[1;32m      1\u001b[0m \u001b[0;31m# - Find the WV with largest total income\u001b[0m\u001b[0;34m\u001b[0m\u001b[0;34m\u001b[0m\u001b[0m\n\u001b[0;32m----> 2\u001b[0;31m \u001b[0mnRichestWV\u001b[0m \u001b[0;34m=\u001b[0m \u001b[0mnp\u001b[0m\u001b[0;34m.\u001b[0m\u001b[0margmax\u001b[0m\u001b[0;34m(\u001b[0m\u001b[0mvfWVTotalIncomeTax\u001b[0m\u001b[0;34m)\u001b[0m\u001b[0;34m\u001b[0m\u001b[0m\n\u001b[0m\u001b[1;32m      3\u001b[0m \u001b[0;34m\u001b[0m\u001b[0m\n\u001b[1;32m      4\u001b[0m \u001b[0;31m# - Map that to WV id\u001b[0m\u001b[0;34m\u001b[0m\u001b[0;34m\u001b[0m\u001b[0m\n\u001b[1;32m      5\u001b[0m \u001b[0mnRichestWVID\u001b[0m \u001b[0;34m=\u001b[0m \u001b[0mvnWVIDs\u001b[0m\u001b[0;34m[\u001b[0m\u001b[0mnRichestWV\u001b[0m\u001b[0;34m]\u001b[0m\u001b[0;34m\u001b[0m\u001b[0m\n",
      "\u001b[0;31mNameError\u001b[0m: name 'vfWVTotalIncomeTax' is not defined"
     ]
    }
   ],
   "source": [
    "# - Find the WV with largest total income\n",
    "nRichestWV = np.argmax(vfWVTotalIncome)\n",
    "\n",
    "# - Map that to WV id\n",
    "nRichestWVID = vnWVIDs[nRichestWV]\n",
    "\n",
    "# - Find the name of that WV\n",
    "dfMap_WVid_name[dfMap_WVid_name['wohnviertel_id'] == nRichestWVID]"
   ]
  },
  {
   "cell_type": "markdown",
   "metadata": {},
   "source": [
    "Now lets map total income across Basel Stadt. `geopandas` data frames are smart, and know how to generate maps directly. First we need to combine the map data with the total income data we just calculated."
   ]
  },
  {
   "cell_type": "code",
   "execution_count": null,
   "metadata": {},
   "outputs": [],
   "source": [
    "# - Make a new data frame containing income per WV\n",
    "dfTotalIncome = pd.DataFrame({'wohnviertel_id': vnWVIDs,\n",
    "                              'total_income': np.asarray(vfWVTotalIncome) / 1e6})\n",
    "\n",
    "# - Use the Map variable to relate WV id to geo WV id\n",
    "dfTotalIncome = pd.merge(dfTotalIncome, dfMapWVid_geoID,\n",
    "                         on = 'wohnviertel_id')\n",
    "\n",
    "# - Merge this with the map data\n",
    "gdfMap_BS_Income = pd.merge(gdfMap, dfTotalIncome, \n",
    "                            left_on = 'OBJECTID', right_on = 'geo_wohnviertel_id')"
   ]
  },
  {
   "cell_type": "markdown",
   "metadata": {},
   "source": [
    "Now we can produce a map using the `.plot()` method."
   ]
  },
  {
   "cell_type": "code",
   "execution_count": null,
   "metadata": {},
   "outputs": [],
   "source": [
    "ax = gdfMap_BS_Income.plot(column = 'total_income', vmin = 0, vmax = 1000)\n",
    "plt.title('Total income per Wohnviertel')\n",
    "plt.axis('off')\n",
    "\n",
    "# - Add a colour bar so the map is interpretable\n",
    "fig = ax.get_figure()\n",
    "cax = fig.add_axes([0.9, 0.1, 0.03, 0.8])\n",
    "sm = plt.cm.ScalarMappable(norm=plt.Normalize(vmin=0, vmax=1000))\n",
    "# fake up the array of the scalar mappable. Urgh...\n",
    "sm._A = []\n",
    "cb = fig.colorbar(sm, cax=cax)\n",
    "cb.set_label('Income (mill. CHF)')\n"
   ]
  },
  {
   "cell_type": "markdown",
   "metadata": {},
   "source": [
    "How about income *tax* per wohnviertel?"
   ]
  },
  {
   "cell_type": "code",
   "execution_count": null,
   "metadata": {
    "code_folding": [
     0
    ]
   },
   "outputs": [],
   "source": [
    "# - Compute totals for income tax for each WV and plot \n",
    "vfWVTotalIncomeTax = [sum(dfIncome.loc[find_WV(id), 'total_income_tax'])\n",
    "                      for id in vnWVIDs]\n",
    "\n",
    "# - Make a new data frame containing income taxper WV\n",
    "dfTotalIncomeTax = pd.DataFrame({'wohnviertel_id': vnWVIDs,\n",
    "                                 'total_income_tax': np.asarray(vfWVTotalIncomeTax) / 1e6})\n",
    "\n",
    "# - Use the Map variable to relate WV id to geo WV id\n",
    "dfTotalIncomeTax = pd.merge(dfTotalIncomeTax, dfMapWVid_geoID,\n",
    "                            on = 'wohnviertel_id')\n",
    "\n",
    "# - Merge this with the map data\n",
    "gdfMap_BS_IncomeTax = pd.merge(gdfMap, dfTotalIncomeTax, \n",
    "                               left_on = 'OBJECTID', right_on = 'geo_wohnviertel_id')\n",
    "\n",
    "# - Plot the map\n",
    "ax = gdfMap_BS_IncomeTax.plot(column = 'total_income_tax', vmin = 0, vmax = 200)\n",
    "plt.title('Total income tax per Wohnviertel')\n",
    "plt.axis('off')\n",
    "\n",
    "# - Add a colour bar so the map is interpretable\n",
    "fig = ax.get_figure()\n",
    "cax = fig.add_axes([0.9, 0.1, 0.03, 0.8])\n",
    "sm = plt.cm.ScalarMappable(norm=plt.Normalize(vmin=0, vmax=200))\n",
    "# fake up the array of the scalar mappable. Urgh...\n",
    "sm._A = []\n",
    "cb = fig.colorbar(sm, cax=cax)\n",
    "cb.set_label('Income tax (mill. CHF)')\n"
   ]
  },
  {
   "cell_type": "markdown",
   "metadata": {},
   "source": [
    "# Breaking down income classes\n",
    "It might be interesting to explore how the proportion of income tax breaks down per income bracket. Let's look at the proportion of income taxt paid by the lowest vs highest income bracket, per WV. We need to index the income data frame to locate income classes 1 (lowest) and 5 (highest) for each WV."
   ]
  },
  {
   "cell_type": "code",
   "execution_count": null,
   "metadata": {
    "nbpresent": {
     "id": "fe8d1639-7e45-4bce-8ebe-66ca3d15f310"
    }
   },
   "outputs": [],
   "source": [
    "# - Define a function that locates \n",
    "def find_WV_IC(wv_id, ic_id):\n",
    "    return find_WV(wv_id) & find_IC(ic_id)\n",
    "\n",
    "# - Get percentage of total income tax for lowest income bracket\n",
    "vfPrcIncomeTaxLowestBracket = [\n",
    "    np.asscalar(dfIncome.loc[find_WV_IC(wv, 1), 'total_income_tax'] / tot) \\\n",
    "    for wv, tot in zip(vnWVIDs, vfWVTotalIncomeTax)\n",
    "    ]\n",
    "\n",
    "# - Get percentage of total income tax for highest income bracket\n",
    "vfPrcIncomeTaxHighestBracket = [\n",
    "    np.asscalar(dfIncome.loc[find_WV_IC(wv, 5), 'total_income_tax'] / tot) \\\n",
    "    for wv, tot in zip(vnWVIDs, vfWVTotalIncomeTax)\n",
    "    ]\n",
    "\n",
    "# - Get total number of declarations per bracket\n",
    "vnNumDeclarationsBrackets = [\n",
    "    np.sum(dfIncome.loc[find_IC(ic), 'num_declarations']) for ic in range(1, 6)\n",
    "    ]"
   ]
  },
  {
   "cell_type": "code",
   "execution_count": null,
   "metadata": {
    "nbpresent": {
     "id": "41eb253f-8e69-41ce-8eb3-125fff111539"
    }
   },
   "outputs": [],
   "source": [
    "# - Construct data frames for tax proportions\n",
    "dfPrcIncomeTax = pd.DataFrame({'wohnviertel_id': vnWVIDs,\n",
    "                               'prop_inc_tax_lowest': np.asarray(vfPrcIncomeTaxLowestBracket) * 100,\n",
    "                               'prop_inc_tax_highest': np.asarray(vfPrcIncomeTaxHighestBracket) * 100})\n",
    "\n",
    "dfPrcIncomeTax = pd.merge(dfPrcIncomeTax, dfMapWVid_geoID,\n",
    "                          on = 'wohnviertel_id')\n",
    "\n",
    "# - Merge with the map data \n",
    "gdfMapTax = pd.merge(gdfMap, dfPrcIncomeTax,\n",
    "                     left_on = 'OBJECTID', right_on = 'geo_wohnviertel_id')"
   ]
  },
  {
   "cell_type": "code",
   "execution_count": null,
   "metadata": {
    "nbpresent": {
     "id": "5b0c4140-2f0f-4ffc-ac3c-a2e2f3782aa9"
    }
   },
   "outputs": [],
   "source": [
    "# - Plot maps of proportion of income tax paid by respective brackets\n",
    "ax = gdfMapTax.plot(column = 'prop_inc_tax_lowest', vmin = 0, vmax = 2)\n",
    "plt.axis('off')\n",
    "plt.title('Proprtion of tax per WV, lowest income bracket')\n",
    "fig = ax.get_figure()\n",
    "cax = fig.add_axes([0.9, 0.1, 0.03, 0.8])\n",
    "sm = plt.cm.ScalarMappable(norm=plt.Normalize(vmin=0, vmax=2))\n",
    "# fake up the array of the scalar mappable. Urgh...\n",
    "sm._A = []\n",
    "fig.colorbar(sm, cax=cax).set_label('Prop. tax paid (%)')\n"
   ]
  },
  {
   "cell_type": "code",
   "execution_count": null,
   "metadata": {
    "nbpresent": {
     "id": "404ba302-f09b-415e-b175-7f83cf5bd8db"
    }
   },
   "outputs": [],
   "source": [
    "# - Plot maps of proportion of income tax paid by respective brackets\n",
    "ax = gdfMapTax.plot(column = 'prop_inc_tax_highest', vmin = 0, vmax = 100)\n",
    "plt.axis('off')\n",
    "plt.title('Proportion of tax per WV, highest income bracket')\n",
    "fig = ax.get_figure()\n",
    "cax = fig.add_axes([0.9, 0.1, 0.03, 0.8])\n",
    "sm = plt.cm.ScalarMappable(norm=plt.Normalize(vmin=0, vmax=100))\n",
    "# fake up the array of the scalar mappable. Urgh...\n",
    "sm._A = []\n",
    "fig.colorbar(sm, cax=cax).set_label('Prop. tax paid (%)')\n"
   ]
  },
  {
   "cell_type": "markdown",
   "metadata": {},
   "source": [
    "# Equality metrics\n",
    "One very common metric for quantifying inequality in an income distribution is called the *Gini* coefficient. From [wikipedia](https://en.wikipedia.org/wiki/Gini_coefficient#Discrete_probability_distribution):\n",
    "\n",
    "For a discrete probability distribution with probability mass function $f(y_i)$, $i = 1 \\textrm{ to } n$, where $f(y_i)$ is the fraction of the population with income or wealth $y_i >0$, the Gini coefficient is:\n",
    "$$G={\\frac {1}{2\\mu }}\\sum \\limits _{i=1}^{n}\\sum \\limits _{j=1}^{n}\\,f(y_{i})f(y_{j})|y_{i}-y_{j}|$$\n",
    "where\n",
    "$$\\mu =\\sum \\limits _{i=1}^{n}y_{i}f(y_{i})$$\n",
    "\n",
    "If the points with nonzero probabilities are indexed in increasing order ($y_i < y_{i+1}$) then:\n",
    "\n",
    "$$G=1-{\\frac {\\Sigma _{i=1}^{n}\\;f(y_{i})(S_{i-1}+S_{i})}{S_{n}}}$$\n",
    "where\n",
    "$S_{i}=\\Sigma _{j=1}^{i}\\;f(y_{j})\\,y_{j}\\,$ and $S_{0}=0\\,$. These formulae are also applicable in the limit as $n\\rightarrow \\infty$.\n",
    "\n",
    "Let's define a function `gini()`, which takes a list of population sizes in income classes, along with the minimum bound of each income class, and returns the *Gini* coefficient."
   ]
  },
  {
   "cell_type": "code",
   "execution_count": null,
   "metadata": {},
   "outputs": [],
   "source": [
    "# - Define a function that calculates the Gini coefficient for a discrete distribution\n",
    "def gini(vnPopClasses, vfClassTotalIncome):\n",
    "    vfF_yi = np.array(vnPopClasses) / np.sum(vnPopClasses)\n",
    "    vfyi = np.array(vfClassTotalIncome)\n",
    "    vfSi = np.cumsum(vfyi * vfF_yi)\n",
    "    \n",
    "    fGini = 1-np.sum(vfF_yi[1:] * (vfSi[:-1] + vfSi[1:]) / vfSi[-1])\n",
    "    \n",
    "    return fGini"
   ]
  },
  {
   "cell_type": "markdown",
   "metadata": {},
   "source": [
    "For a maximally equal distribution of incomes (or whatever measure), the Gini will be close to zero. For a maximally unequal distribution (one persion with all the wealth), the Gini will be close to one."
   ]
  },
  {
   "cell_type": "code",
   "execution_count": null,
   "metadata": {},
   "outputs": [],
   "source": [
    "# - Equal distribution\n",
    "print('Equal distribution: ', gini(np.ones(100), np.ones(100)))\n",
    "\n",
    "# - Unequal distribution\n",
    "print('Unequal distribution: ', gini(np.ones(100), np.concatenate(([0] * 99, [1]))))"
   ]
  },
  {
   "cell_type": "markdown",
   "metadata": {},
   "source": [
    "Now lets compute the Gini for income, assets, income tax."
   ]
  },
  {
   "cell_type": "code",
   "execution_count": null,
   "metadata": {},
   "outputs": [],
   "source": [
    "# - Compute Gini for each Wohnviertel income distribution\n",
    "vfGini_Income = [gini(dfIncome.loc[find_WV(nWV), 'num_declarations'], dfIncome.loc[find_WV(nWV), 'total_income']) for nWV in vnWVIDs]\n",
    "vfGini_Assets = [gini(dfAssets.loc[find_WV(nWV), 'num_declarations'], dfAssets.loc[find_WV(nWV), 'total_assets']) for nWV in vnWVIDs]"
   ]
  },
  {
   "cell_type": "code",
   "execution_count": null,
   "metadata": {},
   "outputs": [],
   "source": [
    "# - Map gini for income and assets\n",
    "\n",
    "# - Construct data frames for income Gini\n",
    "dfGini = pd.DataFrame({'wohnviertel_id': vnWVIDs,\n",
    "                       'gini_income': np.asarray(vfGini_Income),\n",
    "                       'gini_assets': np.asarray(vfGini_Assets)})\n",
    "\n",
    "dfGini = pd.merge(dfGini, dfMapWVid_geoID,\n",
    "                  on = 'wohnviertel_id')\n",
    "\n",
    "# - Merge with the map data \n",
    "gdfMapGini = pd.merge(gdfMap, dfGini,\n",
    "                      left_on = 'OBJECTID', right_on = 'geo_wohnviertel_id')"
   ]
  },
  {
   "cell_type": "code",
   "execution_count": null,
   "metadata": {},
   "outputs": [],
   "source": [
    "ax = gdfMapGini.plot(column = 'gini_income', vmin = 0, vmax = 1)\n",
    "plt.axis('off')\n",
    "plt.title('Gini (income)')\n",
    "fig = ax.get_figure()\n",
    "cax = fig.add_axes([0.9, 0.1, 0.03, 0.8])\n",
    "sm = plt.cm.ScalarMappable(norm=plt.Normalize(vmin=0, vmax=1))\n",
    "# fake up the array of the scalar mappable. Urgh...\n",
    "sm._A = []\n",
    "fig.colorbar(sm, cax=cax).set_label('Gini coeff.')\n",
    "\n",
    "ax = gdfMapGini.plot(column = 'gini_assets', vmin = 0, vmax = 1)\n",
    "plt.axis('off')\n",
    "plt.title('Gini (assets)')\n",
    "fig = ax.get_figure()\n",
    "cax = fig.add_axes([0.9, 0.1, 0.03, 0.8])\n",
    "sm = plt.cm.ScalarMappable(norm=plt.Normalize(vmin=0, vmax=1))\n",
    "# fake up the array of the scalar mappable. Urgh...\n",
    "sm._A = []\n",
    "fig.colorbar(sm, cax=cax).set_label('Gini coeff.')"
   ]
  },
  {
   "cell_type": "code",
   "execution_count": null,
   "metadata": {},
   "outputs": [],
   "source": []
  },
  {
   "cell_type": "code",
   "execution_count": null,
   "metadata": {},
   "outputs": [],
   "source": []
  },
  {
   "cell_type": "code",
   "execution_count": null,
   "metadata": {},
   "outputs": [],
   "source": []
  }
 ],
 "metadata": {
  "kernelspec": {
   "display_name": "Python [conda env:py36_gis]",
   "language": "python",
   "name": "conda-env-py36_gis-py"
  },
  "language_info": {
   "codemirror_mode": {
    "name": "ipython",
    "version": 3
   },
   "file_extension": ".py",
   "mimetype": "text/x-python",
   "name": "python",
   "nbconvert_exporter": "python",
   "pygments_lexer": "ipython3",
   "version": "3.6.5"
  },
  "toc": {
   "nav_menu": {},
   "number_sections": true,
   "sideBar": true,
   "skip_h1_title": false,
   "title_cell": "Table of Contents",
   "title_sidebar": "Contents",
   "toc_cell": false,
   "toc_position": {},
   "toc_section_display": true,
   "toc_window_display": false
  },
  "varInspector": {
   "cols": {
    "lenName": 16,
    "lenType": 16,
    "lenVar": 40
   },
   "kernels_config": {
    "python": {
     "delete_cmd_postfix": "",
     "delete_cmd_prefix": "del ",
     "library": "var_list.py",
     "varRefreshCmd": "print(var_dic_list())"
    },
    "r": {
     "delete_cmd_postfix": ") ",
     "delete_cmd_prefix": "rm(",
     "library": "var_list.r",
     "varRefreshCmd": "cat(var_dic_list()) "
    }
   },
   "types_to_exclude": [
    "module",
    "function",
    "builtin_function_or_method",
    "instance",
    "_Feature"
   ],
   "window_display": false
  }
 },
 "nbformat": 4,
 "nbformat_minor": 2
}
