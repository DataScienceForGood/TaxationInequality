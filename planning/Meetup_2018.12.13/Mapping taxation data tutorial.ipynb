{
 "cells": [
  {
   "cell_type": "markdown",
   "metadata": {
    "nbpresent": {
     "id": "ad655369-d931-4506-ade8-40ea6cdf81e3"
    },
    "slideshow": {
     "slide_type": "slide"
    }
   },
   "source": [
    "# Import libraries"
   ]
  },
  {
   "cell_type": "code",
   "execution_count": 1,
   "metadata": {
    "nbpresent": {
     "id": "d54a70b5-cfb0-4b0c-96ae-7c390c570c57"
    },
    "slideshow": {
     "slide_type": "fragment"
    }
   },
   "outputs": [],
   "source": [
    "# - Import required Python modules\n",
    "import geopandas as gpd\n",
    "import pandas as pd\n",
    "import matplotlib.pyplot as plt\n",
    "%matplotlib notebook\n",
    "import numpy as np\n",
    "import csv\n",
    "import scipy.stats as sps"
   ]
  },
  {
   "cell_type": "code",
   "execution_count": 2,
   "metadata": {
    "nbpresent": {
     "id": "7c7dfe48-52a2-40b9-808a-14ad3b4e438c"
    },
    "slideshow": {
     "slide_type": "fragment"
    }
   },
   "outputs": [],
   "source": [
    "# - Import our custom code for importing data\n",
    "import os,sys,inspect\n",
    "sys.path.insert(0, os.path.abspath(os.path.join(os.getcwd(), '../../code/mapping'))) \n",
    "\n",
    "import read_data as rd"
   ]
  },
  {
   "cell_type": "markdown",
   "metadata": {},
   "source": [
    "# Read income, assets and taxation data"
   ]
  },
  {
   "cell_type": "code",
   "execution_count": 3,
   "metadata": {
    "nbpresent": {
     "id": "21f2cb5b-aee9-41f1-8126-11e92911e3ab"
    },
    "slideshow": {
     "slide_type": "slide"
    }
   },
   "outputs": [],
   "source": [
    "# - Read map and 2015 tax data\n",
    "gdfMap = rd.read_WV_map()\n",
    "dfIncome = rd.read_2015_income()\n",
    "dfAssets = rd.read_2015_assets()\n",
    "\n",
    "# - Read mappings between IDs and descriptors\n",
    "(dfMap_WVid_name, dfMapWVid_geoID, dfMapICid, dfMapACid) = rd.read_2015_mappings()"
   ]
  },
  {
   "cell_type": "markdown",
   "metadata": {},
   "source": [
    "`GeoPandas` is a package for interpreting and manipulating map geometry data, alongside other data about map locations. Here we have a variable `gdfMap`, containing the area boundaries for the Basel-Stadt Wohnviertel (suburbs). The function `rd.read_WV_map()` does all the hard work of locating the files and importing them. We can have a look at the data using the `.head()` method:"
   ]
  },
  {
   "cell_type": "code",
   "execution_count": 4,
   "metadata": {},
   "outputs": [
    {
     "data": {
      "text/html": [
       "<div>\n",
       "<style scoped>\n",
       "    .dataframe tbody tr th:only-of-type {\n",
       "        vertical-align: middle;\n",
       "    }\n",
       "\n",
       "    .dataframe tbody tr th {\n",
       "        vertical-align: top;\n",
       "    }\n",
       "\n",
       "    .dataframe thead th {\n",
       "        text-align: right;\n",
       "    }\n",
       "</style>\n",
       "<table border=\"1\" class=\"dataframe\">\n",
       "  <thead>\n",
       "    <tr style=\"text-align: right;\">\n",
       "      <th></th>\n",
       "      <th>OBJID</th>\n",
       "      <th>OBJECTID</th>\n",
       "      <th>TXT</th>\n",
       "      <th>ZTXT</th>\n",
       "      <th>TYPE</th>\n",
       "      <th>geometry</th>\n",
       "    </tr>\n",
       "  </thead>\n",
       "  <tbody>\n",
       "    <tr>\n",
       "      <th>0</th>\n",
       "      <td>17136</td>\n",
       "      <td>1</td>\n",
       "      <td>7</td>\n",
       "      <td>07</td>\n",
       "      <td>Bruderholz</td>\n",
       "      <td>POLYGON ((2612555.909 1264547.542, 2612560.552...</td>\n",
       "    </tr>\n",
       "    <tr>\n",
       "      <th>1</th>\n",
       "      <td>17139</td>\n",
       "      <td>2</td>\n",
       "      <td>6</td>\n",
       "      <td>06</td>\n",
       "      <td>Gundeldingen</td>\n",
       "      <td>POLYGON ((2610887.105 1266551.468, 2610896.202...</td>\n",
       "    </tr>\n",
       "    <tr>\n",
       "      <th>2</th>\n",
       "      <td>17142</td>\n",
       "      <td>3</td>\n",
       "      <td>5</td>\n",
       "      <td>05</td>\n",
       "      <td>St. Alban</td>\n",
       "      <td>POLYGON ((2612941.971 1267023.045, 2613000.085...</td>\n",
       "    </tr>\n",
       "    <tr>\n",
       "      <th>3</th>\n",
       "      <td>17145</td>\n",
       "      <td>4</td>\n",
       "      <td>4</td>\n",
       "      <td>04</td>\n",
       "      <td>Breite</td>\n",
       "      <td>POLYGON ((2613683.78 1266891.09, 2613686.423 1...</td>\n",
       "    </tr>\n",
       "    <tr>\n",
       "      <th>4</th>\n",
       "      <td>17148</td>\n",
       "      <td>5</td>\n",
       "      <td>8</td>\n",
       "      <td>08</td>\n",
       "      <td>Bachletten</td>\n",
       "      <td>POLYGON ((2610560.968 1266791.31, 2610571.054 ...</td>\n",
       "    </tr>\n",
       "  </tbody>\n",
       "</table>\n",
       "</div>"
      ],
      "text/plain": [
       "   OBJID  OBJECTID TXT ZTXT          TYPE  \\\n",
       "0  17136         1   7   07    Bruderholz   \n",
       "1  17139         2   6   06  Gundeldingen   \n",
       "2  17142         3   5   05     St. Alban   \n",
       "3  17145         4   4   04        Breite   \n",
       "4  17148         5   8   08    Bachletten   \n",
       "\n",
       "                                            geometry  \n",
       "0  POLYGON ((2612555.909 1264547.542, 2612560.552...  \n",
       "1  POLYGON ((2610887.105 1266551.468, 2610896.202...  \n",
       "2  POLYGON ((2612941.971 1267023.045, 2613000.085...  \n",
       "3  POLYGON ((2613683.78 1266891.09, 2613686.423 1...  \n",
       "4  POLYGON ((2610560.968 1266791.31, 2610571.054 ...  "
      ]
     },
     "execution_count": 4,
     "metadata": {},
     "output_type": "execute_result"
    }
   ],
   "source": [
    "gdfMap.head()"
   ]
  },
  {
   "cell_type": "markdown",
   "metadata": {},
   "source": [
    "Likewise, the functions `rd.read_2015_income()` and `...assets()` import data for income, assets and taxation, broken down by Wohnviertel."
   ]
  },
  {
   "cell_type": "code",
   "execution_count": 5,
   "metadata": {},
   "outputs": [
    {
     "data": {
      "text/html": [
       "<div>\n",
       "<style scoped>\n",
       "    .dataframe tbody tr th:only-of-type {\n",
       "        vertical-align: middle;\n",
       "    }\n",
       "\n",
       "    .dataframe tbody tr th {\n",
       "        vertical-align: top;\n",
       "    }\n",
       "\n",
       "    .dataframe thead th {\n",
       "        text-align: right;\n",
       "    }\n",
       "</style>\n",
       "<table border=\"1\" class=\"dataframe\">\n",
       "  <thead>\n",
       "    <tr style=\"text-align: right;\">\n",
       "      <th></th>\n",
       "      <th>wohnviertel_id</th>\n",
       "      <th>Wohnviertel</th>\n",
       "      <th>incomeclass_id</th>\n",
       "      <th>Income class</th>\n",
       "      <th>num_declarations</th>\n",
       "      <th>total_income</th>\n",
       "      <th>total_income_tax</th>\n",
       "    </tr>\n",
       "  </thead>\n",
       "  <tbody>\n",
       "    <tr>\n",
       "      <th>0</th>\n",
       "      <td>1</td>\n",
       "      <td>Altstadt Grossbasel</td>\n",
       "      <td>1</td>\n",
       "      <td>0 to 29'999</td>\n",
       "      <td>640</td>\n",
       "      <td>7257907</td>\n",
       "      <td>113268</td>\n",
       "    </tr>\n",
       "    <tr>\n",
       "      <th>1</th>\n",
       "      <td>1</td>\n",
       "      <td>Altstadt Grossbasel</td>\n",
       "      <td>2</td>\n",
       "      <td>30'000 to 59'999</td>\n",
       "      <td>271</td>\n",
       "      <td>12238573</td>\n",
       "      <td>1399279</td>\n",
       "    </tr>\n",
       "    <tr>\n",
       "      <th>2</th>\n",
       "      <td>1</td>\n",
       "      <td>Altstadt Grossbasel</td>\n",
       "      <td>3</td>\n",
       "      <td>60'000 to 89'999</td>\n",
       "      <td>245</td>\n",
       "      <td>18121653</td>\n",
       "      <td>2831659</td>\n",
       "    </tr>\n",
       "    <tr>\n",
       "      <th>3</th>\n",
       "      <td>1</td>\n",
       "      <td>Altstadt Grossbasel</td>\n",
       "      <td>4</td>\n",
       "      <td>90'000 to 119'999</td>\n",
       "      <td>149</td>\n",
       "      <td>15385085</td>\n",
       "      <td>2526420</td>\n",
       "    </tr>\n",
       "    <tr>\n",
       "      <th>4</th>\n",
       "      <td>1</td>\n",
       "      <td>Altstadt Grossbasel</td>\n",
       "      <td>5</td>\n",
       "      <td>more than 120'000</td>\n",
       "      <td>370</td>\n",
       "      <td>111343117</td>\n",
       "      <td>21030480</td>\n",
       "    </tr>\n",
       "  </tbody>\n",
       "</table>\n",
       "</div>"
      ],
      "text/plain": [
       "   wohnviertel_id          Wohnviertel  incomeclass_id      Income class   \\\n",
       "0               1  Altstadt Grossbasel               1        0 to 29'999   \n",
       "1               1  Altstadt Grossbasel               2   30'000 to 59'999   \n",
       "2               1  Altstadt Grossbasel               3   60'000 to 89'999   \n",
       "3               1  Altstadt Grossbasel               4  90'000 to 119'999   \n",
       "4               1  Altstadt Grossbasel               5  more than 120'000   \n",
       "\n",
       "   num_declarations  total_income  total_income_tax  \n",
       "0               640       7257907            113268  \n",
       "1               271      12238573           1399279  \n",
       "2               245      18121653           2831659  \n",
       "3               149      15385085           2526420  \n",
       "4               370     111343117          21030480  "
      ]
     },
     "execution_count": 5,
     "metadata": {},
     "output_type": "execute_result"
    }
   ],
   "source": [
    "dfIncome.head()"
   ]
  },
  {
   "cell_type": "code",
   "execution_count": 6,
   "metadata": {},
   "outputs": [
    {
     "data": {
      "text/html": [
       "<div>\n",
       "<style scoped>\n",
       "    .dataframe tbody tr th:only-of-type {\n",
       "        vertical-align: middle;\n",
       "    }\n",
       "\n",
       "    .dataframe tbody tr th {\n",
       "        vertical-align: top;\n",
       "    }\n",
       "\n",
       "    .dataframe thead th {\n",
       "        text-align: right;\n",
       "    }\n",
       "</style>\n",
       "<table border=\"1\" class=\"dataframe\">\n",
       "  <thead>\n",
       "    <tr style=\"text-align: right;\">\n",
       "      <th></th>\n",
       "      <th>wohnviertel_id</th>\n",
       "      <th>Wohnviertel</th>\n",
       "      <th>assetclass_id</th>\n",
       "      <th>Asset class</th>\n",
       "      <th>num_declarations</th>\n",
       "      <th>total_assets</th>\n",
       "      <th>total_asset_tax</th>\n",
       "    </tr>\n",
       "  </thead>\n",
       "  <tbody>\n",
       "    <tr>\n",
       "      <th>0</th>\n",
       "      <td>1</td>\n",
       "      <td>Altstadt Grossbasel</td>\n",
       "      <td>1</td>\n",
       "      <td>0 to 49'999</td>\n",
       "      <td>945</td>\n",
       "      <td>11427211</td>\n",
       "      <td>68</td>\n",
       "    </tr>\n",
       "    <tr>\n",
       "      <th>1</th>\n",
       "      <td>1</td>\n",
       "      <td>Altstadt Grossbasel</td>\n",
       "      <td>2</td>\n",
       "      <td>50'000 to 99'999</td>\n",
       "      <td>153</td>\n",
       "      <td>10863042</td>\n",
       "      <td>1148</td>\n",
       "    </tr>\n",
       "    <tr>\n",
       "      <th>2</th>\n",
       "      <td>1</td>\n",
       "      <td>Altstadt Grossbasel</td>\n",
       "      <td>3</td>\n",
       "      <td>100'000 to 299'999</td>\n",
       "      <td>197</td>\n",
       "      <td>35659740</td>\n",
       "      <td>59634</td>\n",
       "    </tr>\n",
       "    <tr>\n",
       "      <th>3</th>\n",
       "      <td>1</td>\n",
       "      <td>Altstadt Grossbasel</td>\n",
       "      <td>4</td>\n",
       "      <td>300'000 to 599'999</td>\n",
       "      <td>132</td>\n",
       "      <td>57970452</td>\n",
       "      <td>182471</td>\n",
       "    </tr>\n",
       "    <tr>\n",
       "      <th>4</th>\n",
       "      <td>1</td>\n",
       "      <td>Altstadt Grossbasel</td>\n",
       "      <td>5</td>\n",
       "      <td>more than 700'000</td>\n",
       "      <td>248</td>\n",
       "      <td>1584480288</td>\n",
       "      <td>8993661</td>\n",
       "    </tr>\n",
       "  </tbody>\n",
       "</table>\n",
       "</div>"
      ],
      "text/plain": [
       "   wohnviertel_id          Wohnviertel  assetclass_id        Asset class   \\\n",
       "0               1  Altstadt Grossbasel              1         0 to 49'999   \n",
       "1               1  Altstadt Grossbasel              2    50'000 to 99'999   \n",
       "2               1  Altstadt Grossbasel              3  100'000 to 299'999   \n",
       "3               1  Altstadt Grossbasel              4  300'000 to 599'999   \n",
       "4               1  Altstadt Grossbasel              5   more than 700'000   \n",
       "\n",
       "   num_declarations  total_assets  total_asset_tax  \n",
       "0               945      11427211               68  \n",
       "1               153      10863042             1148  \n",
       "2               197      35659740            59634  \n",
       "3               132      57970452           182471  \n",
       "4               248    1584480288          8993661  "
      ]
     },
     "execution_count": 6,
     "metadata": {},
     "output_type": "execute_result"
    }
   ],
   "source": [
    "dfAssets.head()"
   ]
  },
  {
   "cell_type": "markdown",
   "metadata": {},
   "source": [
    "These data frames have various IDs (`wohnviertel_id`, `incomeclass_id`, `assetclass_id`) which define enumerations. There are also data in CHF about total income and assests, tax, etc. The variables `dfMap...` specify how to relate various enumerations. Of particular importance is how to map between `wohnviertel_id` and `geo_worhnviertel_id` (which is the `OBJECTID` column in the map data above)."
   ]
  },
  {
   "cell_type": "code",
   "execution_count": 7,
   "metadata": {},
   "outputs": [
    {
     "data": {
      "text/html": [
       "<div>\n",
       "<style scoped>\n",
       "    .dataframe tbody tr th:only-of-type {\n",
       "        vertical-align: middle;\n",
       "    }\n",
       "\n",
       "    .dataframe tbody tr th {\n",
       "        vertical-align: top;\n",
       "    }\n",
       "\n",
       "    .dataframe thead th {\n",
       "        text-align: right;\n",
       "    }\n",
       "</style>\n",
       "<table border=\"1\" class=\"dataframe\">\n",
       "  <thead>\n",
       "    <tr style=\"text-align: right;\">\n",
       "      <th></th>\n",
       "      <th>wohnviertel_id</th>\n",
       "      <th>geo_wohnviertel_id</th>\n",
       "      <th>Wohnviertel</th>\n",
       "    </tr>\n",
       "  </thead>\n",
       "  <tbody>\n",
       "    <tr>\n",
       "      <th>0</th>\n",
       "      <td>1</td>\n",
       "      <td>7</td>\n",
       "      <td>Altstadt Grossbasel</td>\n",
       "    </tr>\n",
       "    <tr>\n",
       "      <th>1</th>\n",
       "      <td>2</td>\n",
       "      <td>6</td>\n",
       "      <td>Vorstaedte</td>\n",
       "    </tr>\n",
       "    <tr>\n",
       "      <th>2</th>\n",
       "      <td>3</td>\n",
       "      <td>8</td>\n",
       "      <td>Am Ring</td>\n",
       "    </tr>\n",
       "    <tr>\n",
       "      <th>3</th>\n",
       "      <td>4</td>\n",
       "      <td>4</td>\n",
       "      <td>Breite</td>\n",
       "    </tr>\n",
       "    <tr>\n",
       "      <th>4</th>\n",
       "      <td>5</td>\n",
       "      <td>3</td>\n",
       "      <td>St. Alban</td>\n",
       "    </tr>\n",
       "  </tbody>\n",
       "</table>\n",
       "</div>"
      ],
      "text/plain": [
       "   wohnviertel_id  geo_wohnviertel_id          Wohnviertel\n",
       "0               1                   7  Altstadt Grossbasel\n",
       "1               2                   6           Vorstaedte\n",
       "2               3                   8              Am Ring\n",
       "3               4                   4               Breite\n",
       "4               5                   3            St. Alban"
      ]
     },
     "execution_count": 7,
     "metadata": {},
     "output_type": "execute_result"
    }
   ],
   "source": [
    "dfMapWVid_geoID.head()"
   ]
  },
  {
   "cell_type": "markdown",
   "metadata": {},
   "source": [
    "# Combining taxation data and the map\n",
    "Now that we know how to imoport the data, let's draw a map of income / taxation across Basel Stadt. We first need to compute the total income per Wohnviertel, since this is currently broken down by asset class. We do this by defining some simple index functions, which return the rows of `dfIncome` that correspond to particular Wohnviertel (`WV`) or income class (`IC`)."
   ]
  },
  {
   "cell_type": "code",
   "execution_count": 8,
   "metadata": {},
   "outputs": [],
   "source": [
    "# - Get unique Wohnviertel IDs\n",
    "vnWVIDs = pd.unique(dfIncome['wohnviertel_id'])\n",
    "\n",
    "# - Get total income tax for each wohnviertel\n",
    "def find_WV(wv_id):\n",
    "    return dfIncome.wohnviertel_id.map(lambda i: i == wv_id)\n",
    "\n",
    "def find_IC(ic_id):\n",
    "    return dfIncome.incomeclass_id.map(lambda i: i == ic_id)\n",
    "\n",
    "# - Compute totals for income for each WV\n",
    "vfWVTotalIncome = [sum(dfIncome.loc[find_WV(id), 'total_income'])\n",
    "                   for id in vnWVIDs]\n",
    "\n",
    "vnTotalDeclarations = [sum(dfIncome.loc[find_WV(id), 'num_declarations'])\n",
    "                           for id in vnWVIDs]"
   ]
  },
  {
   "cell_type": "markdown",
   "metadata": {},
   "source": [
    "Let's plot the total income per Wohnviertel to take a look at it."
   ]
  },
  {
   "cell_type": "code",
   "execution_count": 9,
   "metadata": {},
   "outputs": [
    {
     "data": {
      "text/plain": [
       "Text(0.5,1,'Total income per Wohnviertel')"
      ]
     },
     "execution_count": 9,
     "metadata": {},
     "output_type": "execute_result"
    },
    {
     "data": {
      "image/png": "[encoded data removed]",
      "text/plain": [
       "<matplotlib.figure.Figure at 0x7fbf9ebf1940>"
      ]
     },
     "metadata": {},
     "output_type": "display_data"
    }
   ],
   "source": [
    "# - Make a plot of total income\n",
    "plt.figure()\n",
    "plt.plot(vnWVIDs, np.array(vfWVTotalIncome) / 1e6, '.')\n",
    "plt.xlabel('Wohnviertel ID')\n",
    "plt.ylabel('Total income (million CHF)')\n",
    "plt.title('Total income per Wohnviertel')"
   ]
  },
  {
   "cell_type": "markdown",
   "metadata": {},
   "source": [
    "Woah, one Wohnviertel has a much higher total income than the others! Let's find out which one that is."
   ]
  },
  {
   "cell_type": "code",
   "execution_count": 10,
   "metadata": {},
   "outputs": [
    {
     "data": {
      "text/html": [
       "<div>\n",
       "<style scoped>\n",
       "    .dataframe tbody tr th:only-of-type {\n",
       "        vertical-align: middle;\n",
       "    }\n",
       "\n",
       "    .dataframe tbody tr th {\n",
       "        vertical-align: top;\n",
       "    }\n",
       "\n",
       "    .dataframe thead th {\n",
       "        text-align: right;\n",
       "    }\n",
       "</style>\n",
       "<table border=\"1\" class=\"dataframe\">\n",
       "  <thead>\n",
       "    <tr style=\"text-align: right;\">\n",
       "      <th></th>\n",
       "      <th>wohnviertel_id</th>\n",
       "      <th>wohnviertel_str</th>\n",
       "    </tr>\n",
       "  </thead>\n",
       "  <tbody>\n",
       "    <tr>\n",
       "      <th>19</th>\n",
       "      <td>20</td>\n",
       "      <td>Riehen</td>\n",
       "    </tr>\n",
       "  </tbody>\n",
       "</table>\n",
       "</div>"
      ],
      "text/plain": [
       "    wohnviertel_id wohnviertel_str\n",
       "19              20          Riehen"
      ]
     },
     "execution_count": 10,
     "metadata": {},
     "output_type": "execute_result"
    }
   ],
   "source": [
    "# - Find the WV with largest total income\n",
    "nRichestWV = np.argmax(vfWVTotalIncome)\n",
    "\n",
    "# - Map that to WV id\n",
    "nRichestWVID = vnWVIDs[nRichestWV]\n",
    "\n",
    "# - Find the name of that WV\n",
    "dfMap_WVid_name[dfMap_WVid_name['wohnviertel_id'] == nRichestWVID]"
   ]
  },
  {
   "cell_type": "markdown",
   "metadata": {},
   "source": [
    "Now lets map total income across Basel Stadt. `geopandas` data frames are smart, and know how to generate maps directly. First we need to combine the map data with the total income data we just calculated."
   ]
  },
  {
   "cell_type": "code",
   "execution_count": 11,
   "metadata": {},
   "outputs": [],
   "source": [
    "# - Make a new data frame containing income per WV\n",
    "dfTotalIncome = pd.DataFrame({'wohnviertel_id': vnWVIDs,\n",
    "                              'total_income': np.asarray(vfWVTotalIncome) / 1e6})\n",
    "\n",
    "# - Use the Map variable to relate WV id to geo WV id\n",
    "dfTotalIncome = pd.merge(dfTotalIncome, dfMapWVid_geoID,\n",
    "                         on = 'wohnviertel_id')\n",
    "\n",
    "# - Merge this with the map data\n",
    "gdfMap_BS_Income = pd.merge(gdfMap, dfTotalIncome, \n",
    "                            left_on = 'OBJECTID', right_on = 'geo_wohnviertel_id')"
   ]
  },
  {
   "cell_type": "markdown",
   "metadata": {},
   "source": [
    "Now we can produce a map using the `.plot()` method."
   ]
  },
  {
   "cell_type": "code",
   "execution_count": 12,
   "metadata": {},
   "outputs": [
    {
     "data": {
      "image/png": "[encoded data removed]",
      "text/plain": [
       "<matplotlib.figure.Figure at 0x7fbf96599b00>"
      ]
     },
     "metadata": {},
     "output_type": "display_data"
    }
   ],
   "source": [
    "ax = gdfMap_BS_Income.plot(column = 'total_income', vmin = 0, vmax = 1000)\n",
    "plt.title('Total income per Wohnviertel')\n",
    "plt.axis('off')\n",
    "\n",
    "# - Add a colour bar so the map is interpretable\n",
    "fig = ax.get_figure()\n",
    "cax = fig.add_axes([0.9, 0.1, 0.03, 0.8])\n",
    "sm = plt.cm.ScalarMappable(norm=plt.Normalize(vmin=0, vmax=1000))\n",
    "# fake up the array of the scalar mappable. Urgh...\n",
    "sm._A = []\n",
    "cb = fig.colorbar(sm, cax=cax)\n",
    "cb.set_label('Income (mill. CHF)')\n"
   ]
  },
  {
   "cell_type": "markdown",
   "metadata": {},
   "source": [
    "How about income *tax* per wohnviertel?"
   ]
  },
  {
   "cell_type": "code",
   "execution_count": 13,
   "metadata": {
    "code_folding": [
     0
    ]
   },
   "outputs": [
    {
     "data": {
      "image/png": "[encoded data removed]",
      "text/plain": [
       "<matplotlib.figure.Figure at 0x7fbf96508438>"
      ]
     },
     "metadata": {},
     "output_type": "display_data"
    }
   ],
   "source": [
    "# - Compute totals for income tax for each WV and plot \n",
    "vfWVTotalIncomeTax = [sum(dfIncome.loc[find_WV(id), 'total_income_tax'])\n",
    "                      for id in vnWVIDs]\n",
    "\n",
    "# - Make a new data frame containing income taxper WV\n",
    "dfTotalIncomeTax = pd.DataFrame({'wohnviertel_id': vnWVIDs,\n",
    "                                 'total_income_tax': np.asarray(vfWVTotalIncomeTax) / 1e6})\n",
    "\n",
    "# - Use the Map variable to relate WV id to geo WV id\n",
    "dfTotalIncomeTax = pd.merge(dfTotalIncomeTax, dfMapWVid_geoID,\n",
    "                            on = 'wohnviertel_id')\n",
    "\n",
    "# - Merge this with the map data\n",
    "gdfMap_BS_IncomeTax = pd.merge(gdfMap, dfTotalIncomeTax, \n",
    "                               left_on = 'OBJECTID', right_on = 'geo_wohnviertel_id')\n",
    "\n",
    "# - Plot the map\n",
    "ax = gdfMap_BS_IncomeTax.plot(column = 'total_income_tax', vmin = 0, vmax = 200)\n",
    "plt.title('Total income tax per Wohnviertel')\n",
    "plt.axis('off')\n",
    "\n",
    "# - Add a colour bar so the map is interpretable\n",
    "fig = ax.get_figure()\n",
    "cax = fig.add_axes([0.9, 0.1, 0.03, 0.8])\n",
    "sm = plt.cm.ScalarMappable(norm=plt.Normalize(vmin=0, vmax=200))\n",
    "# fake up the array of the scalar mappable. Urgh...\n",
    "sm._A = []\n",
    "cb = fig.colorbar(sm, cax=cax)\n",
    "cb.set_label('Income tax (mill. CHF)')\n"
   ]
  },
  {
   "cell_type": "code",
   "execution_count": 82,
   "metadata": {},
   "outputs": [
    {
     "data": {
      "text/html": [
       "<div>\n",
       "<style scoped>\n",
       "    .dataframe tbody tr th:only-of-type {\n",
       "        vertical-align: middle;\n",
       "    }\n",
       "\n",
       "    .dataframe tbody tr th {\n",
       "        vertical-align: top;\n",
       "    }\n",
       "\n",
       "    .dataframe thead th {\n",
       "        text-align: right;\n",
       "    }\n",
       "</style>\n",
       "<table border=\"1\" class=\"dataframe\">\n",
       "  <thead>\n",
       "    <tr style=\"text-align: right;\">\n",
       "      <th></th>\n",
       "      <th>OBJID</th>\n",
       "      <th>OBJECTID</th>\n",
       "      <th>TXT</th>\n",
       "      <th>ZTXT</th>\n",
       "      <th>TYPE</th>\n",
       "      <th>geometry</th>\n",
       "      <th>total_income_tax</th>\n",
       "      <th>wohnviertel_id</th>\n",
       "      <th>geo_wohnviertel_id</th>\n",
       "      <th>Wohnviertel</th>\n",
       "    </tr>\n",
       "  </thead>\n",
       "  <tbody>\n",
       "    <tr>\n",
       "      <th>0</th>\n",
       "      <td>17136</td>\n",
       "      <td>1</td>\n",
       "      <td>7</td>\n",
       "      <td>07</td>\n",
       "      <td>Bruderholz</td>\n",
       "      <td>POLYGON ((2612555.909 1264547.542, 2612560.552...</td>\n",
       "      <td>98.192822</td>\n",
       "      <td>7</td>\n",
       "      <td>1</td>\n",
       "      <td>Bruderholz</td>\n",
       "    </tr>\n",
       "    <tr>\n",
       "      <th>1</th>\n",
       "      <td>17139</td>\n",
       "      <td>2</td>\n",
       "      <td>6</td>\n",
       "      <td>06</td>\n",
       "      <td>Gundeldingen</td>\n",
       "      <td>POLYGON ((2610887.105 1266551.468, 2610896.202...</td>\n",
       "      <td>83.517575</td>\n",
       "      <td>6</td>\n",
       "      <td>2</td>\n",
       "      <td>Gundeldingen</td>\n",
       "    </tr>\n",
       "    <tr>\n",
       "      <th>2</th>\n",
       "      <td>17142</td>\n",
       "      <td>3</td>\n",
       "      <td>5</td>\n",
       "      <td>05</td>\n",
       "      <td>St. Alban</td>\n",
       "      <td>POLYGON ((2612941.971 1267023.045, 2613000.085...</td>\n",
       "      <td>104.234098</td>\n",
       "      <td>5</td>\n",
       "      <td>3</td>\n",
       "      <td>St. Alban</td>\n",
       "    </tr>\n",
       "    <tr>\n",
       "      <th>3</th>\n",
       "      <td>17145</td>\n",
       "      <td>4</td>\n",
       "      <td>4</td>\n",
       "      <td>04</td>\n",
       "      <td>Breite</td>\n",
       "      <td>POLYGON ((2613683.78 1266891.09, 2613686.423 1...</td>\n",
       "      <td>40.062655</td>\n",
       "      <td>4</td>\n",
       "      <td>4</td>\n",
       "      <td>Breite</td>\n",
       "    </tr>\n",
       "    <tr>\n",
       "      <th>4</th>\n",
       "      <td>17148</td>\n",
       "      <td>5</td>\n",
       "      <td>8</td>\n",
       "      <td>08</td>\n",
       "      <td>Bachletten</td>\n",
       "      <td>POLYGON ((2610560.968 1266791.31, 2610571.054 ...</td>\n",
       "      <td>92.431802</td>\n",
       "      <td>8</td>\n",
       "      <td>5</td>\n",
       "      <td>Bachletten</td>\n",
       "    </tr>\n",
       "    <tr>\n",
       "      <th>5</th>\n",
       "      <td>17151</td>\n",
       "      <td>6</td>\n",
       "      <td>2</td>\n",
       "      <td>02</td>\n",
       "      <td>Vorstädte</td>\n",
       "      <td>POLYGON ((2610927.89 1268322.563, 2610934.264 ...</td>\n",
       "      <td>49.197631</td>\n",
       "      <td>2</td>\n",
       "      <td>6</td>\n",
       "      <td>Vorstaedte</td>\n",
       "    </tr>\n",
       "    <tr>\n",
       "      <th>6</th>\n",
       "      <td>17154</td>\n",
       "      <td>7</td>\n",
       "      <td>1</td>\n",
       "      <td>01</td>\n",
       "      <td>Altstadt Grossbasel</td>\n",
       "      <td>POLYGON ((2611365.755 1267577.786, 2611374.934...</td>\n",
       "      <td>27.901106</td>\n",
       "      <td>1</td>\n",
       "      <td>7</td>\n",
       "      <td>Altstadt Grossbasel</td>\n",
       "    </tr>\n",
       "    <tr>\n",
       "      <th>7</th>\n",
       "      <td>17157</td>\n",
       "      <td>8</td>\n",
       "      <td>3</td>\n",
       "      <td>03</td>\n",
       "      <td>Am Ring</td>\n",
       "      <td>POLYGON ((2610705.095 1267923.464, 2610679.814...</td>\n",
       "      <td>70.596565</td>\n",
       "      <td>3</td>\n",
       "      <td>8</td>\n",
       "      <td>Am Ring</td>\n",
       "    </tr>\n",
       "    <tr>\n",
       "      <th>8</th>\n",
       "      <td>17160</td>\n",
       "      <td>9</td>\n",
       "      <td>9</td>\n",
       "      <td>09</td>\n",
       "      <td>Gotthelf</td>\n",
       "      <td>POLYGON ((2609244.573 1266802.241, 2609236.385...</td>\n",
       "      <td>36.241772</td>\n",
       "      <td>9</td>\n",
       "      <td>9</td>\n",
       "      <td>Gotthelf</td>\n",
       "    </tr>\n",
       "    <tr>\n",
       "      <th>9</th>\n",
       "      <td>17163</td>\n",
       "      <td>10</td>\n",
       "      <td>10</td>\n",
       "      <td>10</td>\n",
       "      <td>Iselin</td>\n",
       "      <td>POLYGON ((2610233.635 1267655.846, 2610283.869...</td>\n",
       "      <td>61.515633</td>\n",
       "      <td>10</td>\n",
       "      <td>10</td>\n",
       "      <td>Iselin</td>\n",
       "    </tr>\n",
       "    <tr>\n",
       "      <th>10</th>\n",
       "      <td>17166</td>\n",
       "      <td>11</td>\n",
       "      <td>11</td>\n",
       "      <td>11</td>\n",
       "      <td>St. Johann</td>\n",
       "      <td>POLYGON ((2610006.194 1269609.744, 2610280.179...</td>\n",
       "      <td>71.727742</td>\n",
       "      <td>11</td>\n",
       "      <td>11</td>\n",
       "      <td>St. Johann</td>\n",
       "    </tr>\n",
       "    <tr>\n",
       "      <th>11</th>\n",
       "      <td>17169</td>\n",
       "      <td>12</td>\n",
       "      <td>12</td>\n",
       "      <td>12</td>\n",
       "      <td>Altstadt Kleinbasel</td>\n",
       "      <td>POLYGON ((2611521.543 1268095.236, 2611540.744...</td>\n",
       "      <td>13.872898</td>\n",
       "      <td>12</td>\n",
       "      <td>12</td>\n",
       "      <td>Altstadt Kleinbasel</td>\n",
       "    </tr>\n",
       "    <tr>\n",
       "      <th>12</th>\n",
       "      <td>17172</td>\n",
       "      <td>13</td>\n",
       "      <td>13</td>\n",
       "      <td>13</td>\n",
       "      <td>Clara</td>\n",
       "      <td>POLYGON ((2612059.803 1268175.573, 2612092.638...</td>\n",
       "      <td>14.938272</td>\n",
       "      <td>13</td>\n",
       "      <td>13</td>\n",
       "      <td>Clara</td>\n",
       "    </tr>\n",
       "    <tr>\n",
       "      <th>13</th>\n",
       "      <td>17175</td>\n",
       "      <td>14</td>\n",
       "      <td>14</td>\n",
       "      <td>14</td>\n",
       "      <td>Wettstein</td>\n",
       "      <td>POLYGON ((2612320.486 1267358.57, 2612200.486 ...</td>\n",
       "      <td>37.215879</td>\n",
       "      <td>14</td>\n",
       "      <td>14</td>\n",
       "      <td>Wettstein</td>\n",
       "    </tr>\n",
       "    <tr>\n",
       "      <th>14</th>\n",
       "      <td>17178</td>\n",
       "      <td>15</td>\n",
       "      <td>15</td>\n",
       "      <td>15</td>\n",
       "      <td>Hirzbrunnen</td>\n",
       "      <td>POLYGON ((2614174.966 1269644.764, 2613902.075...</td>\n",
       "      <td>39.814503</td>\n",
       "      <td>15</td>\n",
       "      <td>15</td>\n",
       "      <td>Hirzbrunnen</td>\n",
       "    </tr>\n",
       "    <tr>\n",
       "      <th>15</th>\n",
       "      <td>17181</td>\n",
       "      <td>16</td>\n",
       "      <td>19</td>\n",
       "      <td>19</td>\n",
       "      <td>Kleinhüningen</td>\n",
       "      <td>POLYGON ((2612201.657 1269344.74, 2612162.525 ...</td>\n",
       "      <td>7.897937</td>\n",
       "      <td>19</td>\n",
       "      <td>16</td>\n",
       "      <td>Kleinhueningen</td>\n",
       "    </tr>\n",
       "    <tr>\n",
       "      <th>16</th>\n",
       "      <td>17184</td>\n",
       "      <td>17</td>\n",
       "      <td>18</td>\n",
       "      <td>18</td>\n",
       "      <td>Klybeck</td>\n",
       "      <td>POLYGON ((2611991.266 1269037.587, 2611976.178...</td>\n",
       "      <td>18.263130</td>\n",
       "      <td>18</td>\n",
       "      <td>17</td>\n",
       "      <td>Klybeck</td>\n",
       "    </tr>\n",
       "    <tr>\n",
       "      <th>17</th>\n",
       "      <td>17187</td>\n",
       "      <td>18</td>\n",
       "      <td>16</td>\n",
       "      <td>16</td>\n",
       "      <td>Rosental</td>\n",
       "      <td>POLYGON ((2612201.657 1269344.74, 2612208.945 ...</td>\n",
       "      <td>20.215000</td>\n",
       "      <td>16</td>\n",
       "      <td>18</td>\n",
       "      <td>Rosental</td>\n",
       "    </tr>\n",
       "    <tr>\n",
       "      <th>18</th>\n",
       "      <td>17190</td>\n",
       "      <td>19</td>\n",
       "      <td>17</td>\n",
       "      <td>17</td>\n",
       "      <td>Matthäus</td>\n",
       "      <td>POLYGON ((2611986.361 1269021.234, 2611967.492...</td>\n",
       "      <td>57.148208</td>\n",
       "      <td>17</td>\n",
       "      <td>19</td>\n",
       "      <td>Matthaeus</td>\n",
       "    </tr>\n",
       "    <tr>\n",
       "      <th>19</th>\n",
       "      <td>17193</td>\n",
       "      <td>20</td>\n",
       "      <td>20</td>\n",
       "      <td>20</td>\n",
       "      <td>Riehen</td>\n",
       "      <td>POLYGON ((2619054.786 1272030.066, 2618986.969...</td>\n",
       "      <td>157.895965</td>\n",
       "      <td>20</td>\n",
       "      <td>20</td>\n",
       "      <td>Riehen</td>\n",
       "    </tr>\n",
       "    <tr>\n",
       "      <th>20</th>\n",
       "      <td>17196</td>\n",
       "      <td>21</td>\n",
       "      <td>30</td>\n",
       "      <td>30</td>\n",
       "      <td>Bettingen</td>\n",
       "      <td>POLYGON ((2618444.066 1269370.062, 2618438.801...</td>\n",
       "      <td>12.223809</td>\n",
       "      <td>30</td>\n",
       "      <td>21</td>\n",
       "      <td>Bettingen</td>\n",
       "    </tr>\n",
       "  </tbody>\n",
       "</table>\n",
       "</div>"
      ],
      "text/plain": [
       "    OBJID  OBJECTID TXT ZTXT                 TYPE  \\\n",
       "0   17136         1   7   07           Bruderholz   \n",
       "1   17139         2   6   06         Gundeldingen   \n",
       "2   17142         3   5   05            St. Alban   \n",
       "3   17145         4   4   04               Breite   \n",
       "4   17148         5   8   08           Bachletten   \n",
       "5   17151         6   2   02            Vorstädte   \n",
       "6   17154         7   1   01  Altstadt Grossbasel   \n",
       "7   17157         8   3   03              Am Ring   \n",
       "8   17160         9   9   09             Gotthelf   \n",
       "9   17163        10  10   10               Iselin   \n",
       "10  17166        11  11   11           St. Johann   \n",
       "11  17169        12  12   12  Altstadt Kleinbasel   \n",
       "12  17172        13  13   13                Clara   \n",
       "13  17175        14  14   14            Wettstein   \n",
       "14  17178        15  15   15          Hirzbrunnen   \n",
       "15  17181        16  19   19        Kleinhüningen   \n",
       "16  17184        17  18   18              Klybeck   \n",
       "17  17187        18  16   16             Rosental   \n",
       "18  17190        19  17   17             Matthäus   \n",
       "19  17193        20  20   20               Riehen   \n",
       "20  17196        21  30   30            Bettingen   \n",
       "\n",
       "                                             geometry  total_income_tax  \\\n",
       "0   POLYGON ((2612555.909 1264547.542, 2612560.552...         98.192822   \n",
       "1   POLYGON ((2610887.105 1266551.468, 2610896.202...         83.517575   \n",
       "2   POLYGON ((2612941.971 1267023.045, 2613000.085...        104.234098   \n",
       "3   POLYGON ((2613683.78 1266891.09, 2613686.423 1...         40.062655   \n",
       "4   POLYGON ((2610560.968 1266791.31, 2610571.054 ...         92.431802   \n",
       "5   POLYGON ((2610927.89 1268322.563, 2610934.264 ...         49.197631   \n",
       "6   POLYGON ((2611365.755 1267577.786, 2611374.934...         27.901106   \n",
       "7   POLYGON ((2610705.095 1267923.464, 2610679.814...         70.596565   \n",
       "8   POLYGON ((2609244.573 1266802.241, 2609236.385...         36.241772   \n",
       "9   POLYGON ((2610233.635 1267655.846, 2610283.869...         61.515633   \n",
       "10  POLYGON ((2610006.194 1269609.744, 2610280.179...         71.727742   \n",
       "11  POLYGON ((2611521.543 1268095.236, 2611540.744...         13.872898   \n",
       "12  POLYGON ((2612059.803 1268175.573, 2612092.638...         14.938272   \n",
       "13  POLYGON ((2612320.486 1267358.57, 2612200.486 ...         37.215879   \n",
       "14  POLYGON ((2614174.966 1269644.764, 2613902.075...         39.814503   \n",
       "15  POLYGON ((2612201.657 1269344.74, 2612162.525 ...          7.897937   \n",
       "16  POLYGON ((2611991.266 1269037.587, 2611976.178...         18.263130   \n",
       "17  POLYGON ((2612201.657 1269344.74, 2612208.945 ...         20.215000   \n",
       "18  POLYGON ((2611986.361 1269021.234, 2611967.492...         57.148208   \n",
       "19  POLYGON ((2619054.786 1272030.066, 2618986.969...        157.895965   \n",
       "20  POLYGON ((2618444.066 1269370.062, 2618438.801...         12.223809   \n",
       "\n",
       "    wohnviertel_id  geo_wohnviertel_id          Wohnviertel  \n",
       "0                7                   1           Bruderholz  \n",
       "1                6                   2         Gundeldingen  \n",
       "2                5                   3            St. Alban  \n",
       "3                4                   4               Breite  \n",
       "4                8                   5           Bachletten  \n",
       "5                2                   6           Vorstaedte  \n",
       "6                1                   7  Altstadt Grossbasel  \n",
       "7                3                   8              Am Ring  \n",
       "8                9                   9             Gotthelf  \n",
       "9               10                  10               Iselin  \n",
       "10              11                  11           St. Johann  \n",
       "11              12                  12  Altstadt Kleinbasel  \n",
       "12              13                  13                Clara  \n",
       "13              14                  14            Wettstein  \n",
       "14              15                  15          Hirzbrunnen  \n",
       "15              19                  16       Kleinhueningen  \n",
       "16              18                  17              Klybeck  \n",
       "17              16                  18             Rosental  \n",
       "18              17                  19            Matthaeus  \n",
       "19              20                  20               Riehen  \n",
       "20              30                  21            Bettingen  "
      ]
     },
     "execution_count": 82,
     "metadata": {},
     "output_type": "execute_result"
    }
   ],
   "source": []
  },
  {
   "cell_type": "markdown",
   "metadata": {},
   "source": [
    "# Breaking down income classes\n",
    "It might be interesting to explore how the proportion of income tax breaks down per income bracket. Let's look at the proportion of income taxt paid by the lowest vs highest income bracket, per WV. We need to index the income data frame to locate income classes 1 (lowest) and 5 (highest) for each WV."
   ]
  },
  {
   "cell_type": "code",
   "execution_count": 14,
   "metadata": {
    "nbpresent": {
     "id": "fe8d1639-7e45-4bce-8ebe-66ca3d15f310"
    }
   },
   "outputs": [],
   "source": [
    "# - Define a function that locates \n",
    "def find_WV_IC(wv_id, ic_id):\n",
    "    return find_WV(wv_id) & find_IC(ic_id)\n",
    "\n",
    "# - Get percentage of total income tax for lowest income bracket\n",
    "vfPrcIncomeTaxLowestBracket = [\n",
    "    np.asscalar(dfIncome.loc[find_WV_IC(wv, 1), 'total_income_tax'] / tot) \\\n",
    "    for wv, tot in zip(vnWVIDs, vfWVTotalIncomeTax)\n",
    "    ]\n",
    "\n",
    "# - Get percentage of total income tax for highest income bracket\n",
    "vfPrcIncomeTaxHighestBracket = [\n",
    "    np.asscalar(dfIncome.loc[find_WV_IC(wv, 5), 'total_income_tax'] / tot) \\\n",
    "    for wv, tot in zip(vnWVIDs, vfWVTotalIncomeTax)\n",
    "    ]\n",
    "\n",
    "# - Get total number of declarations per bracket\n",
    "vnNumDeclarationsBrackets = [\n",
    "    np.sum(dfIncome.loc[find_IC(ic), 'num_declarations']) for ic in range(1, 6)\n",
    "    ]"
   ]
  },
  {
   "cell_type": "code",
   "execution_count": 15,
   "metadata": {
    "nbpresent": {
     "id": "41eb253f-8e69-41ce-8eb3-125fff111539"
    }
   },
   "outputs": [],
   "source": [
    "# - Construct data frames for tax proportions\n",
    "dfPrcIncomeTax = pd.DataFrame({'wohnviertel_id': vnWVIDs,\n",
    "                               'prop_inc_tax_lowest': np.asarray(vfPrcIncomeTaxLowestBracket) * 100,\n",
    "                               'prop_inc_tax_highest': np.asarray(vfPrcIncomeTaxHighestBracket) * 100})\n",
    "\n",
    "dfPrcIncomeTax = pd.merge(dfPrcIncomeTax, dfMapWVid_geoID,\n",
    "                          on = 'wohnviertel_id')\n",
    "\n",
    "# - Merge with the map data \n",
    "gdfMapTax = pd.merge(gdfMap, dfPrcIncomeTax,\n",
    "                     left_on = 'OBJECTID', right_on = 'geo_wohnviertel_id')"
   ]
  },
  {
   "cell_type": "code",
   "execution_count": 77,
   "metadata": {},
   "outputs": [],
   "source": [
    "dfIncome['income_per_capita'] = dfIncome['total_income']/dfIncome['num_declarations'] "
   ]
  },
  {
   "cell_type": "code",
   "execution_count": null,
   "metadata": {},
   "outputs": [],
   "source": []
  },
  {
   "cell_type": "code",
   "execution_count": 16,
   "metadata": {
    "nbpresent": {
     "id": "5b0c4140-2f0f-4ffc-ac3c-a2e2f3782aa9"
    }
   },
   "outputs": [
    {
     "data": {
      "image/png": "[encoded data removed]",
      "text/plain": [
       "<matplotlib.figure.Figure at 0x7fbf96540cf8>"
      ]
     },
     "metadata": {},
     "output_type": "display_data"
    }
   ],
   "source": [
    "# - Plot maps of proportion of income tax paid by respective brackets\n",
    "ax = gdfMapTax.plot(column = 'prop_inc_tax_lowest', vmin = 0, vmax = 2)\n",
    "plt.axis('off')\n",
    "plt.title('Proprtion of tax per WV, lowest income bracket')\n",
    "fig = ax.get_figure()\n",
    "cax = fig.add_axes([0.9, 0.1, 0.03, 0.8])\n",
    "sm = plt.cm.ScalarMappable(norm=plt.Normalize(vmin=0, vmax=2))\n",
    "# fake up the array of the scalar mappable. Urgh...\n",
    "sm._A = []\n",
    "fig.colorbar(sm, cax=cax).set_label('Prop. tax paid (%)')\n"
   ]
  },
  {
   "cell_type": "code",
   "execution_count": 17,
   "metadata": {
    "nbpresent": {
     "id": "404ba302-f09b-415e-b175-7f83cf5bd8db"
    }
   },
   "outputs": [
    {
     "data": {
      "image/png": "[encoded data removed]",
      "text/plain": [
       "<matplotlib.figure.Figure at 0x7fbf963b6208>"
      ]
     },
     "metadata": {},
     "output_type": "display_data"
    }
   ],
   "source": [
    "# - Plot maps of proportion of income tax paid by respective brackets\n",
    "ax = gdfMapTax.plot(column = 'prop_inc_tax_highest', vmin = 0, vmax = 100)\n",
    "plt.axis('off')\n",
    "plt.title('Proportion of tax per WV, highest income bracket')\n",
    "fig = ax.get_figure()\n",
    "cax = fig.add_axes([0.9, 0.1, 0.03, 0.8])\n",
    "sm = plt.cm.ScalarMappable(norm=plt.Normalize(vmin=0, vmax=100))\n",
    "# fake up the array of the scalar mappable. Urgh...\n",
    "sm._A = []\n",
    "fig.colorbar(sm, cax=cax).set_label('Prop. tax paid (%)')\n"
   ]
  },
  {
   "cell_type": "markdown",
   "metadata": {},
   "source": [
    "# Equality metrics\n",
    "One very common metric for quantifying inequality in an income distribution is called the *Gini* coefficient. From [wikipedia](https://en.wikipedia.org/wiki/Gini_coefficient#Discrete_probability_distribution):\n",
    "\n",
    "For a discrete probability distribution with probability mass function $f(y_i)$, $i = 1 \\textrm{ to } n$, where $f(y_i)$ is the fraction of the population with income or wealth $y_i >0$, the Gini coefficient is:\n",
    "$$G={\\frac {1}{2\\mu }}\\sum \\limits _{i=1}^{n}\\sum \\limits _{j=1}^{n}\\,f(y_{i})f(y_{j})|y_{i}-y_{j}|$$\n",
    "where\n",
    "$$\\mu =\\sum \\limits _{i=1}^{n}y_{i}f(y_{i})$$\n",
    "\n",
    "If the points with nonzero probabilities are indexed in increasing order ($y_i < y_{i+1}$) then:\n",
    "\n",
    "$$G=1-{\\frac {\\Sigma _{i=1}^{n}\\;f(y_{i})(S_{i-1}+S_{i})}{S_{n}}}$$\n",
    "where\n",
    "$S_{i}=\\Sigma _{j=1}^{i}\\;f(y_{j})\\,y_{j}\\,$ and $S_{0}=0\\,$. These formulae are also applicable in the limit as $n\\rightarrow \\infty$.\n",
    "\n",
    "Let's define a function `gini()`, which takes a list of population sizes in income classes, along with the minimum bound of each income class, and returns the *Gini* coefficient."
   ]
  },
  {
   "cell_type": "code",
   "execution_count": 18,
   "metadata": {},
   "outputs": [],
   "source": [
    "# - Define a function that calculates the Gini coefficient for a discrete distribution\n",
    "def gini(vnPopClasses, vfClassTotalIncome):\n",
    "    vfF_yi = np.array(vnPopClasses) / np.sum(vnPopClasses)\n",
    "    vfyi = np.array(vfClassTotalIncome)\n",
    "    vfSi = np.cumsum(vfyi * vfF_yi)\n",
    "    \n",
    "    fGini = 1-np.sum(vfF_yi[1:] * (vfSi[:-1] + vfSi[1:]) / vfSi[-1])\n",
    "    \n",
    "    return fGini"
   ]
  },
  {
   "cell_type": "markdown",
   "metadata": {},
   "source": [
    "For a maximally equal distribution of incomes (or whatever measure), the Gini will be close to zero. For a maximally unequal distribution (one persion with all the wealth), the Gini will be close to one."
   ]
  },
  {
   "cell_type": "code",
   "execution_count": 19,
   "metadata": {},
   "outputs": [
    {
     "name": "stdout",
     "output_type": "stream",
     "text": [
      "Equal distribution:  0.00010000000000010001\n",
      "Unequal distribution:  0.99\n"
     ]
    }
   ],
   "source": [
    "# - Equal distribution\n",
    "print('Equal distribution: ', gini(np.ones(100), np.ones(100)))\n",
    "\n",
    "# - Unequal distribution\n",
    "print('Unequal distribution: ', gini(np.ones(100), np.concatenate(([0] * 99, [1]))))"
   ]
  },
  {
   "cell_type": "markdown",
   "metadata": {},
   "source": [
    "Now lets compute the Gini for income, assets, income tax."
   ]
  },
  {
   "cell_type": "code",
   "execution_count": 81,
   "metadata": {},
   "outputs": [
    {
     "data": {
      "text/plain": [
       "array([ 1,  2,  3,  4,  5,  6,  7,  8,  9, 10, 11, 12, 13, 14, 15, 16, 17,\n",
       "       18, 19, 20, 30])"
      ]
     },
     "execution_count": 81,
     "metadata": {},
     "output_type": "execute_result"
    }
   ],
   "source": [
    "vnWVIDs"
   ]
  },
  {
   "cell_type": "code",
   "execution_count": 96,
   "metadata": {},
   "outputs": [],
   "source": [
    "# - Compute Gini for each Wohnviertel income distribution\n",
    "vfGini_Income = [gini(dfIncome.loc[find_WV(nWV), 'num_declarations'], dfIncome.loc[find_WV(nWV), 'total_income']) for nWV in vnWVIDs]\n",
    "vfGini_Assets = [gini(dfAssets.loc[find_WV(nWV), 'num_declarations'], dfAssets.loc[find_WV(nWV), 'total_assets']) for nWV in vnWVIDs]\n",
    "vfGini_IncomeTax = [gini(dfIncome.loc[find_WV(nWV), 'num_declarations'], dfIncome.loc[find_WV(nWV), 'total_income_tax']) for nWV in vnWVIDs]\n",
    "vfGini_AssetTax = [gini(dfAssets.loc[find_WV(nWV), 'num_declarations'], dfAssets.loc[find_WV(nWV), 'total_asset_tax']) for nWV in vnWVIDs]\n"
   ]
  },
  {
   "cell_type": "code",
   "execution_count": 107,
   "metadata": {},
   "outputs": [],
   "source": [
    "aftotalDeclaNum = np.array([np.sum(dfAssets.loc[find_WV(nWV), 'num_declarations']) for nWV in vnWVIDs])\n",
    "aftotalIncome = np.array([np.sum(dfIncome.loc[find_WV(nWV), 'total_income']) for nWV in vnWVIDs])\n",
    "aftotalAssets = np.array([np.sum(dfAssets.loc[find_WV(nWV), 'total_assets']) for nWV in vnWVIDs])\n",
    "aftotalIncomeTax = np.array([np.sum(dfIncome.loc[find_WV(nWV), 'total_income_tax']) for nWV in vnWVIDs])\n",
    "aftotalAssetTax = np.array([np.sum(dfAssets.loc[find_WV(nWV), 'total_asset_tax']) for nWV in vnWVIDs])\n",
    "a_income_per_capita = aftotalIncome / aftotalDeclaNum\n",
    "a_assets_per_capita = aftotalAssets / aftotalDeclaNum\n",
    "a_incomeTax_per_capita = aftotalIncomeTax / aftotalDeclaNum\n",
    "a_totalAssetTax_per_capita = aftotalAssetTax / aftotalDeclaNum\n"
   ]
  },
  {
   "cell_type": "code",
   "execution_count": null,
   "metadata": {},
   "outputs": [],
   "source": []
  },
  {
   "cell_type": "code",
   "execution_count": 109,
   "metadata": {},
   "outputs": [],
   "source": [
    "# - Map gini for income and assets\n",
    "\n",
    "# - Construct data frames for income Gini\n",
    "dfGini = pd.DataFrame({'wohnviertel_id': vnWVIDs,\n",
    "                       'gini_income': np.asarray(vfGini_Income),\n",
    "                       'gini_assets': np.asarray(vfGini_Assets),\n",
    "                       'gini_income_tax': np.asarray(vfGini_IncomeTax),\n",
    "                       'gini_asset_tax': np.asarray(vfGini_AssetTax),\n",
    "                       'income_per_capita':a_income_per_capita,\n",
    "                       'assets_per_capita':a_assets_per_capita,\n",
    "                       'incomeTax_per_capita':a_incomeTax_per_capita,\n",
    "                       'totalAssetTax_per_capita':a_totalAssetTax_per_capita\n",
    "                      })\n",
    "\n",
    "\n",
    "dfGini = pd.merge(dfGini, dfMapWVid_geoID,\n",
    "                  on = 'wohnviertel_id')\n",
    "\n",
    "# - Merge with the map data \n",
    "gdfMapGini = pd.merge(gdfMap, dfGini,\n",
    "                      left_on = 'OBJECTID', right_on = 'geo_wohnviertel_id')"
   ]
  },
  {
   "cell_type": "code",
   "execution_count": 119,
   "metadata": {},
   "outputs": [],
   "source": [
    "df_Gini_tax_assets_WV = dfGini[['gini_income','gini_assets','gini_income_tax','gini_asset_tax','income_per_capita',\n",
    "                              'assets_per_capita','incomeTax_per_capita','totalAssetTax_per_capita']]\n",
    "df_Gini_tax_assets_WV_red = dfGini[['gini_income','gini_income_tax','income_per_capita','incomeTax_per_capita']]"
   ]
  },
  {
   "cell_type": "code",
   "execution_count": null,
   "metadata": {},
   "outputs": [],
   "source": []
  },
  {
   "cell_type": "code",
   "execution_count": 133,
   "metadata": {},
   "outputs": [
    {
     "data": {
      "text/plain": [
       "<matplotlib.axes._subplots.AxesSubplot at 0x7fbf8299bdd8>"
      ]
     },
     "execution_count": 133,
     "metadata": {},
     "output_type": "execute_result"
    },
    {
     "data": {
      "image/png": "[encoded data removed]",
      "text/plain": [
       "<matplotlib.figure.Figure at 0x7fbf81257048>"
      ]
     },
     "metadata": {},
     "output_type": "display_data"
    },
    {
     "data": {
      "image/png": "[encoded data removed]",
      "text/plain": [
       "<matplotlib.figure.Figure at 0x7fbf81208fd0>"
      ]
     },
     "metadata": {},
     "output_type": "display_data"
    }
   ],
   "source": [
    "df_Gini_tax_assets_WV.plot.scatter(x=['gini_income'],y=['income_per_capita'])\n",
    "df_Gini_tax_assets_WV.plot.scatter(x=['gini_income_tax'],y=['incomeTax_per_capita'])\n"
   ]
  },
  {
   "cell_type": "code",
   "execution_count": 134,
   "metadata": {},
   "outputs": [
    {
     "data": {
      "text/plain": [
       "array([[<matplotlib.axes._subplots.AxesSubplot object at 0x7fbf80df7da0>,\n",
       "        <matplotlib.axes._subplots.AxesSubplot object at 0x7fbf8234bda0>,\n",
       "        <matplotlib.axes._subplots.AxesSubplot object at 0x7fbf81ed6860>,\n",
       "        <matplotlib.axes._subplots.AxesSubplot object at 0x7fbf802e2208>],\n",
       "       [<matplotlib.axes._subplots.AxesSubplot object at 0x7fbf80299208>,\n",
       "        <matplotlib.axes._subplots.AxesSubplot object at 0x7fbf80299240>,\n",
       "        <matplotlib.axes._subplots.AxesSubplot object at 0x7fbf802799e8>,\n",
       "        <matplotlib.axes._subplots.AxesSubplot object at 0x7fbf80232978>],\n",
       "       [<matplotlib.axes._subplots.AxesSubplot object at 0x7fbf801ee978>,\n",
       "        <matplotlib.axes._subplots.AxesSubplot object at 0x7fbf8023d7f0>,\n",
       "        <matplotlib.axes._subplots.AxesSubplot object at 0x7fbf8015a4a8>,\n",
       "        <matplotlib.axes._subplots.AxesSubplot object at 0x7fbf801154a8>],\n",
       "       [<matplotlib.axes._subplots.AxesSubplot object at 0x7fbf800ce3c8>,\n",
       "        <matplotlib.axes._subplots.AxesSubplot object at 0x7fbf80088358>,\n",
       "        <matplotlib.axes._subplots.AxesSubplot object at 0x7fbf800b2dd8>,\n",
       "        <matplotlib.axes._subplots.AxesSubplot object at 0x7fbf80067e48>]],\n",
       "      dtype=object)"
      ]
     },
     "execution_count": 134,
     "metadata": {},
     "output_type": "execute_result"
    },
    {
     "data": {
      "image/png": "[encoded data removed]",
      "text/plain": [
       "<matplotlib.figure.Figure at 0x7fbf81e5b470>"
      ]
     },
     "metadata": {},
     "output_type": "display_data"
    }
   ],
   "source": [
    "pd.plotting.scatter_matrix(df_Gini_tax_assets_WV[['gini_income','gini_income_tax','income_per_capita','incomeTax_per_capita']],\n",
    "                          figsize=(12,18), s=250)"
   ]
  },
  {
   "cell_type": "markdown",
   "metadata": {},
   "source": [
    "### ax = gdfMapGini.plot(column = 'gini_income', vmin = 0, vmax = 1)\n",
    "plt.axis('off')\n",
    "plt.title('Gini (income)')\n",
    "fig = ax.get_figure()\n",
    "cax = fig.add_axes([0.9, 0.1, 0.03, 0.8])\n",
    "sm = plt.cm.ScalarMappable(norm=plt.Normalize(vmin=0, vmax=1))\n",
    "# fake up the array of the scalar mappable. Urgh...\n",
    "sm._A = []\n",
    "fig.colorbar(sm, cax=cax).set_label('Gini coeff.')"
   ]
  },
  {
   "cell_type": "code",
   "execution_count": 24,
   "metadata": {},
   "outputs": [
    {
     "data": {
      "image/png": "[encoded data removed]",
      "text/plain": [
       "<matplotlib.figure.Figure at 0x7fbf96211b00>"
      ]
     },
     "metadata": {},
     "output_type": "display_data"
    }
   ],
   "source": [
    "ax = gdfMapGini.plot(column = 'gini_assets', vmin = 0, vmax = 1)\n",
    "plt.axis('off')\n",
    "plt.title('Gini (assets)')\n",
    "fig = ax.get_figure()\n",
    "cax = fig.add_axes([0.9, 0.1, 0.03, 0.8])\n",
    "sm = plt.cm.ScalarMappable(norm=plt.Normalize(vmin=0, vmax=1))\n",
    "# fake up the array of the scalar mappable. Urgh...\n",
    "sm._A = []\n",
    "fig.colorbar(sm, cax=cax).set_label('Gini coeff.')"
   ]
  },
  {
   "cell_type": "code",
   "execution_count": null,
   "metadata": {},
   "outputs": [],
   "source": []
  },
  {
   "cell_type": "code",
   "execution_count": 25,
   "metadata": {},
   "outputs": [
    {
     "data": {
      "image/png": "[encoded data removed]",
      "text/plain": [
       "<matplotlib.figure.Figure at 0x7fbf961bf7b8>"
      ]
     },
     "metadata": {},
     "output_type": "display_data"
    }
   ],
   "source": [
    "ax = gdfMapGini.plot(column = 'gini_income_tax', vmin = 0, vmax = 1)\n",
    "plt.axis('off')\n",
    "plt.title('Gini (income tax paid)')\n",
    "fig = ax.get_figure()\n",
    "cax = fig.add_axes([0.9, 0.1, 0.03, 0.8])\n",
    "sm = plt.cm.ScalarMappable(norm=plt.Normalize(vmin=0, vmax=1))\n",
    "# fake up the array of the scalar mappable. Urgh...\n",
    "sm._A = []\n",
    "fig.colorbar(sm, cax=cax).set_label('Gini coeff.')"
   ]
  },
  {
   "cell_type": "code",
   "execution_count": 26,
   "metadata": {},
   "outputs": [
    {
     "data": {
      "image/png": "[encoded data removed]",
      "text/plain": [
       "<matplotlib.figure.Figure at 0x7fbf96265898>"
      ]
     },
     "metadata": {},
     "output_type": "display_data"
    }
   ],
   "source": [
    "ax = gdfMapGini.plot(column = 'gini_asset_tax', vmin = 0, vmax = 1)\n",
    "plt.axis('off')\n",
    "plt.title('Gini (asset tax paid)')\n",
    "fig = ax.get_figure()\n",
    "cax = fig.add_axes([0.9, 0.1, 0.03, 0.8])\n",
    "sm = plt.cm.ScalarMappable(norm=plt.Normalize(vmin=0, vmax=1))\n",
    "# fake up the array of the scalar mappable. Urgh...\n",
    "sm._A = []\n",
    "fig.colorbar(sm, cax=cax).set_label('Gini coeff.')"
   ]
  },
  {
   "cell_type": "code",
   "execution_count": 27,
   "metadata": {},
   "outputs": [
    {
     "data": {
      "image/png": "[encoded data removed]",
      "text/plain": [
       "<matplotlib.figure.Figure at 0x7fbf965405c0>"
      ]
     },
     "metadata": {},
     "output_type": "display_data"
    }
   ],
   "source": [
    "plt.figure()\n",
    "plt.plot(vfGini_Income, vfGini_IncomeTax, '.')\n",
    "plt.plot(vfGini_Assets, vfGini_AssetTax, '.')\n",
    "plt.plot([0, 1], [0, 1], '--')\n",
    "plt.xlabel('Income / Asset Gini')\n",
    "plt.ylabel('Income tax / Asset tax Gini')\n",
    "plt.legend(['income', 'asset'])\n",
    "plt.title('Income / asset Gini vs tax Gini');"
   ]
  },
  {
   "cell_type": "markdown",
   "metadata": {},
   "source": [
    "# Read quintile income and asset taxation data\n",
    "Also available are the income, asset and taxation data split by population quintiles calculated for each WV. This samples the households in the WV more evenly, rather than applying the same income / asset brackets across all WVs."
   ]
  },
  {
   "cell_type": "code",
   "execution_count": 28,
   "metadata": {},
   "outputs": [],
   "source": [
    "# - Read map and 2015 tax data in quintiles\n",
    "gdfMap = rd.read_WV_map()\n",
    "dfIncomeQ = rd.read_2015_income_quintiles()\n",
    "dfAssetsQ = rd.read_2015_assets_quintiles()\n",
    "\n",
    "# - Read mappings between IDs and descriptors\n",
    "(dfMap_WVid_name, dfMapWVid_geoID, dfMapICid, dfMapACid) = rd.read_2015_mappings()"
   ]
  },
  {
   "cell_type": "code",
   "execution_count": 29,
   "metadata": {},
   "outputs": [
    {
     "data": {
      "text/html": [
       "<div>\n",
       "<style scoped>\n",
       "    .dataframe tbody tr th:only-of-type {\n",
       "        vertical-align: middle;\n",
       "    }\n",
       "\n",
       "    .dataframe tbody tr th {\n",
       "        vertical-align: top;\n",
       "    }\n",
       "\n",
       "    .dataframe thead th {\n",
       "        text-align: right;\n",
       "    }\n",
       "</style>\n",
       "<table border=\"1\" class=\"dataframe\">\n",
       "  <thead>\n",
       "    <tr style=\"text-align: right;\">\n",
       "      <th></th>\n",
       "      <th>wohnviertel_id</th>\n",
       "      <th>Wohnviertel</th>\n",
       "      <th>incomequintile_id</th>\n",
       "      <th>num_declarations</th>\n",
       "      <th>total_income</th>\n",
       "      <th>total_income_tax</th>\n",
       "      <th>marginal_tax_rate</th>\n",
       "    </tr>\n",
       "  </thead>\n",
       "  <tbody>\n",
       "    <tr>\n",
       "      <th>0</th>\n",
       "      <td>1</td>\n",
       "      <td>Altstadt Grossbasel</td>\n",
       "      <td>1</td>\n",
       "      <td>335</td>\n",
       "      <td>1330220</td>\n",
       "      <td>200</td>\n",
       "      <td>0.000150</td>\n",
       "    </tr>\n",
       "    <tr>\n",
       "      <th>1</th>\n",
       "      <td>1</td>\n",
       "      <td>Altstadt Grossbasel</td>\n",
       "      <td>2</td>\n",
       "      <td>335</td>\n",
       "      <td>6878185</td>\n",
       "      <td>184671</td>\n",
       "      <td>0.026849</td>\n",
       "    </tr>\n",
       "    <tr>\n",
       "      <th>2</th>\n",
       "      <td>1</td>\n",
       "      <td>Altstadt Grossbasel</td>\n",
       "      <td>3</td>\n",
       "      <td>335</td>\n",
       "      <td>17391161</td>\n",
       "      <td>2233910</td>\n",
       "      <td>0.128451</td>\n",
       "    </tr>\n",
       "    <tr>\n",
       "      <th>3</th>\n",
       "      <td>1</td>\n",
       "      <td>Altstadt Grossbasel</td>\n",
       "      <td>4</td>\n",
       "      <td>335</td>\n",
       "      <td>31771183</td>\n",
       "      <td>5158796</td>\n",
       "      <td>0.162373</td>\n",
       "    </tr>\n",
       "    <tr>\n",
       "      <th>4</th>\n",
       "      <td>1</td>\n",
       "      <td>Altstadt Grossbasel</td>\n",
       "      <td>5</td>\n",
       "      <td>335</td>\n",
       "      <td>106975586</td>\n",
       "      <td>20323529</td>\n",
       "      <td>0.189983</td>\n",
       "    </tr>\n",
       "  </tbody>\n",
       "</table>\n",
       "</div>"
      ],
      "text/plain": [
       "   wohnviertel_id          Wohnviertel  incomequintile_id  num_declarations  \\\n",
       "0               1  Altstadt Grossbasel                  1               335   \n",
       "1               1  Altstadt Grossbasel                  2               335   \n",
       "2               1  Altstadt Grossbasel                  3               335   \n",
       "3               1  Altstadt Grossbasel                  4               335   \n",
       "4               1  Altstadt Grossbasel                  5               335   \n",
       "\n",
       "   total_income  total_income_tax  marginal_tax_rate  \n",
       "0       1330220               200           0.000150  \n",
       "1       6878185            184671           0.026849  \n",
       "2      17391161           2233910           0.128451  \n",
       "3      31771183           5158796           0.162373  \n",
       "4     106975586          20323529           0.189983  "
      ]
     },
     "execution_count": 29,
     "metadata": {},
     "output_type": "execute_result"
    }
   ],
   "source": [
    "# - Look at the head of the quintile table\n",
    "dfIncomeQ.head()"
   ]
  },
  {
   "cell_type": "code",
   "execution_count": 30,
   "metadata": {},
   "outputs": [],
   "source": [
    "# - Function to extract WVs from quintile data\n",
    "def find_WVQ(wv_id):\n",
    "    return dfIncomeQ.wohnviertel_id.map(lambda i: i == wv_id)"
   ]
  },
  {
   "cell_type": "markdown",
   "metadata": {},
   "source": [
    "Now we'd like to check whether the GINI values we obtained from the bracket data are similar to those calculated from the quintile data. As the number of brackets / percentiles increases, they should converge to the same number."
   ]
  },
  {
   "cell_type": "code",
   "execution_count": 31,
   "metadata": {},
   "outputs": [
    {
     "name": "stdout",
     "output_type": "stream",
     "text": [
      "0.5764627242828384 0.5881204338124254\n"
     ]
    }
   ],
   "source": [
    "# - Compare GINI calculations between Quintile and bracket data\n",
    "print(\n",
    "    gini(dfIncomeQ.loc[find_WVQ(1), 'num_declarations'], dfIncomeQ.loc[find_WVQ(1), 'total_income']),\n",
    "    gini(dfIncome.loc[find_WV(1), 'num_declarations'], dfIncome.loc[find_WV(1), 'total_income'])\n",
    ")"
   ]
  },
  {
   "cell_type": "code",
   "execution_count": 32,
   "metadata": {},
   "outputs": [],
   "source": [
    "# - Compute Gini for each Wohnviertel income distribution\n",
    "vfGini_Income = [gini(dfIncomeQ.loc[find_WVQ(nWV), 'num_declarations'], dfIncomeQ.loc[find_WVQ(nWV), 'total_income']) for nWV in vnWVIDs]\n",
    "vfGini_Assets = [gini(dfAssetsQ.loc[find_WVQ(nWV), 'num_declarations'], dfAssetsQ.loc[find_WVQ(nWV), 'total_assets']) for nWV in vnWVIDs]\n",
    "vfGini_IncomeTax = [gini(dfIncomeQ.loc[find_WVQ(nWV), 'num_declarations'], dfIncomeQ.loc[find_WVQ(nWV), 'total_income_tax']) for nWV in vnWVIDs]\n",
    "vfGini_AssetTax = [gini(dfAssetsQ.loc[find_WVQ(nWV), 'num_declarations'], dfAssetsQ.loc[find_WVQ(nWV), 'total_asset_tax']) for nWV in vnWVIDs]"
   ]
  },
  {
   "cell_type": "markdown",
   "metadata": {},
   "source": [
    "## Compare GINI computed from quintiles to Stats Amt calculation\n",
    "The Stats Amt also provides calculations of GINI over income and assets. Let's compare their numbers with ours."
   ]
  },
  {
   "cell_type": "code",
   "execution_count": 33,
   "metadata": {},
   "outputs": [
    {
     "data": {
      "text/html": [
       "<div>\n",
       "<style scoped>\n",
       "    .dataframe tbody tr th:only-of-type {\n",
       "        vertical-align: middle;\n",
       "    }\n",
       "\n",
       "    .dataframe tbody tr th {\n",
       "        vertical-align: top;\n",
       "    }\n",
       "\n",
       "    .dataframe thead th {\n",
       "        text-align: right;\n",
       "    }\n",
       "</style>\n",
       "<table border=\"1\" class=\"dataframe\">\n",
       "  <thead>\n",
       "    <tr style=\"text-align: right;\">\n",
       "      <th></th>\n",
       "      <th>Wohnviertel</th>\n",
       "      <th>wohnviertel_id</th>\n",
       "      <th>gini</th>\n",
       "    </tr>\n",
       "  </thead>\n",
       "  <tbody>\n",
       "    <tr>\n",
       "      <th>0</th>\n",
       "      <td>Altstadt Grossbasel</td>\n",
       "      <td>1</td>\n",
       "      <td>0.637</td>\n",
       "    </tr>\n",
       "    <tr>\n",
       "      <th>1</th>\n",
       "      <td>Vorstaedte</td>\n",
       "      <td>2</td>\n",
       "      <td>0.580</td>\n",
       "    </tr>\n",
       "    <tr>\n",
       "      <th>2</th>\n",
       "      <td>Am Ring</td>\n",
       "      <td>3</td>\n",
       "      <td>0.521</td>\n",
       "    </tr>\n",
       "    <tr>\n",
       "      <th>3</th>\n",
       "      <td>Breite</td>\n",
       "      <td>4</td>\n",
       "      <td>0.415</td>\n",
       "    </tr>\n",
       "    <tr>\n",
       "      <th>4</th>\n",
       "      <td>St. Alban</td>\n",
       "      <td>5</td>\n",
       "      <td>0.558</td>\n",
       "    </tr>\n",
       "  </tbody>\n",
       "</table>\n",
       "</div>"
      ],
      "text/plain": [
       "           Wohnviertel  wohnviertel_id   gini\n",
       "0  Altstadt Grossbasel               1  0.637\n",
       "1           Vorstaedte               2  0.580\n",
       "2              Am Ring               3  0.521\n",
       "3               Breite               4  0.415\n",
       "4            St. Alban               5  0.558"
      ]
     },
     "execution_count": 33,
     "metadata": {},
     "output_type": "execute_result"
    }
   ],
   "source": [
    "(dfGiniIncome, dfGiniAssets) = rd.read_2015_gini()\n",
    "dfGiniIncome.head()"
   ]
  },
  {
   "cell_type": "code",
   "execution_count": 34,
   "metadata": {},
   "outputs": [],
   "source": [
    "def find_GiniWV(wv_id):\n",
    "    return dfGiniIncome.wohnviertel_id.map(lambda i: i == wv_id)\n",
    "\n",
    "vfGini_Income_BS = np.array([dfGiniIncome.loc[find_GiniWV(nWV), 'gini'].get_values() for nWV in vnWVIDs]).flatten()\n",
    "vfGini_Assets_BS = np.array([dfGiniAssets.loc[find_GiniWV(nWV), 'gini'].get_values() for nWV in vnWVIDs]).flatten()"
   ]
  },
  {
   "cell_type": "code",
   "execution_count": 35,
   "metadata": {},
   "outputs": [
    {
     "data": {
      "image/png": "[encoded data removed]",
      "text/plain": [
       "<matplotlib.figure.Figure at 0x7fbf962fecc0>"
      ]
     },
     "metadata": {},
     "output_type": "display_data"
    }
   ],
   "source": [
    "# - Make a comparison plot \n",
    "plt.figure()\n",
    "plt.scatter(np.asarray(vfGini_Income), np.asarray(vfGini_Income_BS))\n",
    "plt.scatter(np.asarray(vfGini_Assets), np.asarray(vfGini_Assets_BS))\n",
    "plt.plot([.4, 1], [.4, 1], 'k:')\n",
    "plt.xlabel('Income / Asset Gini (our calculation)')\n",
    "plt.ylabel('Income / Asset Gini (StatsAmt calculation)')\n",
    "plt.legend(['', 'income', 'assets'])\n",
    "plt.title('Comparison of Gini esimates');"
   ]
  },
  {
   "cell_type": "markdown",
   "metadata": {},
   "source": [
    "Ideally all points would lie on the diagonal, but with more fine-grained data the numbers from the Stats Amt are probably more accurate. In any case our numbers correspond fairly well with theirs."
   ]
  },
  {
   "cell_type": "markdown",
   "metadata": {},
   "source": [
    "## Map GINI across Wohnviertels"
   ]
  },
  {
   "cell_type": "code",
   "execution_count": 36,
   "metadata": {},
   "outputs": [],
   "source": [
    "# - Map gini for income and assets\n",
    "\n",
    "# - Construct data frames for income Gini\n",
    "dfGini = pd.DataFrame({'wohnviertel_id': vnWVIDs,\n",
    "                       'gini_income': np.asarray(vfGini_Income),\n",
    "                       'gini_assets': np.asarray(vfGini_Assets),\n",
    "                       'gini_income_tax': np.asarray(vfGini_IncomeTax),\n",
    "                       'gini_asset_tax': np.asarray(vfGini_AssetTax)\n",
    "                      })\n",
    "\n",
    "dfGini = pd.merge(dfGini, dfMapWVid_geoID,\n",
    "                  on = 'wohnviertel_id')\n",
    "\n",
    "# - Merge with the map data \n",
    "gdfMapGini = pd.merge(gdfMap, dfGini,\n",
    "                      left_on = 'OBJECTID', right_on = 'geo_wohnviertel_id')"
   ]
  },
  {
   "cell_type": "code",
   "execution_count": 37,
   "metadata": {},
   "outputs": [
    {
     "data": {
      "image/png": "[encoded data removed]",
      "text/plain": [
       "<matplotlib.figure.Figure at 0x7fbf9ec38c18>"
      ]
     },
     "metadata": {},
     "output_type": "display_data"
    }
   ],
   "source": [
    "ax = gdfMapGini.plot(column = 'gini_income', vmin = 0, vmax = 1)\n",
    "plt.axis('off')\n",
    "plt.title('Gini (income)')\n",
    "fig = ax.get_figure()\n",
    "cax = fig.add_axes([0.9, 0.1, 0.03, 0.8])\n",
    "sm = plt.cm.ScalarMappable(norm=plt.Normalize(vmin=0, vmax=1))\n",
    "# fake up the array of the scalar mappable. Urgh...\n",
    "sm._A = []\n",
    "fig.colorbar(sm, cax=cax).set_label('Gini coeff.')"
   ]
  },
  {
   "cell_type": "code",
   "execution_count": 38,
   "metadata": {},
   "outputs": [
    {
     "data": {
      "image/png": "[encoded data removed]",
      "text/plain": [
       "<matplotlib.figure.Figure at 0x7fbf960afe10>"
      ]
     },
     "metadata": {},
     "output_type": "display_data"
    }
   ],
   "source": [
    "ax = gdfMapGini.plot(column = 'gini_assets', vmin = 0, vmax = 1)\n",
    "plt.axis('off')\n",
    "plt.title('Gini (assets)')\n",
    "fig = ax.get_figure()\n",
    "cax = fig.add_axes([0.9, 0.1, 0.03, 0.8])\n",
    "sm = plt.cm.ScalarMappable(norm=plt.Normalize(vmin=0, vmax=1))\n",
    "# fake up the array of the scalar mappable. Urgh...\n",
    "sm._A = []\n",
    "fig.colorbar(sm, cax=cax).set_label('Gini coeff.')"
   ]
  },
  {
   "cell_type": "code",
   "execution_count": 39,
   "metadata": {},
   "outputs": [
    {
     "data": {
      "image/png": "[encoded data removed]",
      "text/plain": [
       "<matplotlib.figure.Figure at 0x7fbf95fd4908>"
      ]
     },
     "metadata": {},
     "output_type": "display_data"
    }
   ],
   "source": [
    "ax = gdfMapGini.plot(column = 'gini_income_tax', vmin = 0, vmax = 1)\n",
    "plt.axis('off')\n",
    "plt.title('Gini (income tax paid)')\n",
    "fig = ax.get_figure()\n",
    "cax = fig.add_axes([0.9, 0.1, 0.03, 0.8])\n",
    "sm = plt.cm.ScalarMappable(norm=plt.Normalize(vmin=0, vmax=1))\n",
    "# fake up the array of the scalar mappable. Urgh...\n",
    "sm._A = []\n",
    "fig.colorbar(sm, cax=cax).set_label('Gini coeff.')"
   ]
  },
  {
   "cell_type": "code",
   "execution_count": 40,
   "metadata": {},
   "outputs": [
    {
     "data": {
      "image/png": "[encoded data removed]",
      "text/plain": [
       "<matplotlib.figure.Figure at 0x7fbf963bbeb8>"
      ]
     },
     "metadata": {},
     "output_type": "display_data"
    }
   ],
   "source": [
    "ax = gdfMapGini.plot(column = 'gini_asset_tax', vmin = 0, vmax = 1)\n",
    "plt.axis('off')\n",
    "plt.title('Gini (asset tax paid)')\n",
    "fig = ax.get_figure()\n",
    "cax = fig.add_axes([0.9, 0.1, 0.03, 0.8])\n",
    "sm = plt.cm.ScalarMappable(norm=plt.Normalize(vmin=0, vmax=1))\n",
    "# fake up the array of the scalar mappable. Urgh...\n",
    "sm._A = []\n",
    "fig.colorbar(sm, cax=cax).set_label('Gini coeff.')"
   ]
  },
  {
   "cell_type": "markdown",
   "metadata": {},
   "source": [
    "## Compare income and asset vs income/asset tax gini\n",
    "How equitable, progressive or regressive is the BS taxation system?\n",
    "* \"Equitable\" in this case implies that people pay tax strictly as a proportion of their income or assets. In this case, income Gini would be identical to income *tax* Gini\n",
    "* \"Progressive\" would imply that poor people pay relatively less tax than rich people as a percentage of their income\n",
    "* \"Regressive\" would imply that poor people pay relatively more tax than rich people\n",
    "\n",
    "We define an income *tax* Gini and asset *tax* Gini metric, computed the same way as for simple income and asset quintiles."
   ]
  },
  {
   "cell_type": "code",
   "execution_count": 41,
   "metadata": {},
   "outputs": [
    {
     "data": {
      "image/png": "[encoded data removed]",
      "text/plain": [
       "<matplotlib.figure.Figure at 0x7fbf95fd4828>"
      ]
     },
     "metadata": {},
     "output_type": "display_data"
    }
   ],
   "source": [
    "# - Make a figure comparing income and tax Gini\n",
    "\n",
    "plt.figure()\n",
    "plt.plot(vfGini_Income, vfGini_IncomeTax, '.')\n",
    "plt.plot(vfGini_Assets, vfGini_AssetTax, '.')\n",
    "plt.plot([0, 1], [0, 1], '--')\n",
    "plt.xlabel('Income / Asset Gini')\n",
    "plt.ylabel('Income tax / Asset tax Gini')\n",
    "plt.legend(['income', 'asset'])\n",
    "plt.title('Income / asset Gini vs tax Gini');"
   ]
  },
  {
   "cell_type": "markdown",
   "metadata": {},
   "source": [
    "All points fall above the diagonal, implying Gini for taxation is always higher than Gini for simple income or assets. This suggests that rich people pay a larger proportion of tax, compared with their share of overall income or assets. The taxation system for Basel Stadt is therefore progressive.\n",
    "\n",
    "*Note*: This analysis only takes into account tax paid as income or asset tax, and ignores sales taxes. Sales taxes, as a fixed proportion of spending, tend to be regressive."
   ]
  },
  {
   "cell_type": "markdown",
   "metadata": {},
   "source": [
    "## \"Scissor plots\" to compare distributions across WVs\n",
    "Here we define a \"scissor plot\", inspired by the visualisation made by YAAY: https://www.behance.net/gallery/23151677/Data-Visualization-on-Inequality-of-Society\n",
    "\n",
    "In these plots, a scissor is drawn with the points touching the average incomes from top and bottom quintiles, with the hinge in the midpoint between these two. The averages for the other quintiles are marked on the lines as coloured dots, and the overall mean income is also marked."
   ]
  },
  {
   "cell_type": "code",
   "execution_count": 42,
   "metadata": {
    "code_folding": [
     0
    ]
   },
   "outputs": [],
   "source": [
    "# - Make a scissor plotting function \n",
    "def scissor_plot(vfMetricRange, fMidpoint, fMetricMean, vfMetricDots, fXLoc, fWidth):\n",
    "    # - Plot the scissor lines (min, median, max)\n",
    "    vfPoints = [vfMetricRange[0], fMidpoint, vfMetricRange[1]]\n",
    "    plt.plot([fXLoc + fWidth, fXLoc, fXLoc + fWidth], vfPoints, 'k-')\n",
    "    \n",
    "    def DotXLoc(fDot):\n",
    "        if fDot > fMidpoint:\n",
    "            fDotXLoc = fWidth / (vfMetricRange[1] - fMidpoint) * (fDot - fMidpoint) + fXLoc\n",
    "        else:\n",
    "            fDotXLoc = fWidth / (fMidpoint - vfMetricRange[0]) * (fMidpoint - fDot) + fXLoc\n",
    "        return fDotXLoc\n",
    "    \n",
    "    # - Plot the list of dots\n",
    "    if np.size(vfMetricDots) == 1:\n",
    "        vfMetricDots = [vfMetricDots]\n",
    "        \n",
    "    for fDot in list(vfMetricDots):\n",
    "        plt.plot(DotXLoc(fDot), fDot, '.', markersize=14)\n",
    "        \n",
    "    # - Plot the mean dot\n",
    "    return plt.plot(DotXLoc(fMetricMean), fMetricMean, 'k.', markersize=12)\n",
    "    \n",
    "def plotScissorWVIncome(nWV, fXLoc):\n",
    "    vfQuintiles = np.array(dfIncomeQ.loc[find_WVQ(nWV), 'total_income'])\n",
    "    vnNumDeclarations = np.array(dfIncomeQ.loc[find_WVQ(nWV), 'num_declarations'])\n",
    "    vfRange = vfQuintiles[np.array([0, -1])] / vnNumDeclarations[np.array([0, -1])]\n",
    "\n",
    "    return scissor_plot(vfRange / 1e3,\n",
    "                        np.mean(vfRange) / 1e3,\n",
    "                        np.sum(vfQuintiles) / np.sum(vnNumDeclarations) / 1e3,\n",
    "                        vfQuintiles / vnNumDeclarations / 1e3,\n",
    "                        fXLoc,\n",
    "                        1,\n",
    "                       )\n",
    "\n",
    "def plotScissorWVAssets(nWV, fXLoc):\n",
    "    vfQuintiles = np.array(dfAssetsQ.loc[find_WVQ(nWV), 'total_assets'])\n",
    "    vnNumDeclarations = np.array(dfAssetsQ.loc[find_WVQ(nWV), 'num_declarations'])\n",
    "    vfRange = vfQuintiles[np.array([0, -1])] / vnNumDeclarations[np.array([0, -1])]\n",
    "\n",
    "    return scissor_plot(vfRange / 1e3,\n",
    "                        np.mean(vfRange) / 1e3,\n",
    "                        np.sum(vfQuintiles) / np.sum(vnNumDeclarations) / 1e3,\n",
    "                        vfQuintiles / vnNumDeclarations / 1e3,\n",
    "                        fXLoc,\n",
    "                        1,\n",
    "                       )"
   ]
  },
  {
   "cell_type": "code",
   "execution_count": 43,
   "metadata": {
    "code_folding": [
     0
    ]
   },
   "outputs": [
    {
     "data": {
      "image/png": "[encoded data removed]",
      "text/plain": [
       "<matplotlib.figure.Figure at 0x7fbf960a90f0>"
      ]
     },
     "metadata": {},
     "output_type": "display_data"
    }
   ],
   "source": [
    "# - Make a scissor plot of a single Wohnviertel \n",
    "fig = plt.figure()\n",
    "plotScissorWVIncome(4, 1)\n",
    "plt.ylabel('kCHF per capita')\n",
    "plt.title('Income distribution for Breite')\n",
    "plt.xticks([1.5], ['Breite']);"
   ]
  },
  {
   "cell_type": "markdown",
   "metadata": {},
   "source": [
    "Yearly per-capia income for Breite ranges from around 10kCHF per capita to around 130kCHF per capita at the top end. This is moderately unequally distributed — the higest-earning quintile earn more than double on average than the next quintile down.\n",
    "\n",
    "Let's compare income between two Wohnviertels: Breite and Bettingen."
   ]
  },
  {
   "cell_type": "code",
   "execution_count": 44,
   "metadata": {
    "code_folding": [
     0
    ]
   },
   "outputs": [
    {
     "data": {
      "image/png": "[encoded data removed]",
      "text/plain": [
       "<matplotlib.figure.Figure at 0x7fbf9ebaf9b0>"
      ]
     },
     "metadata": {},
     "output_type": "display_data"
    }
   ],
   "source": [
    "# - Make a scissor plot of a two Wohnviertels \n",
    "fig = plt.figure()\n",
    "plotScissorWVIncome(4, 1)\n",
    "plotScissorWVIncome(30, 3)\n",
    "plt.ylabel('kCHF per capita')\n",
    "plt.title('Income distribution for Breite')\n",
    "plt.xticks([1.5, 3.5], ['Breite', 'Bettingen']);"
   ]
  },
  {
   "cell_type": "markdown",
   "metadata": {},
   "source": [
    "People at the top end in Bettingen (the highest quintile) earn more than double than the richest people in Breite, on average. Also, most people in Bettingen (1st to 3rd quintiles) earn less than the average income in Bettingen (black dot). This is because the income distribution is highly skewed."
   ]
  },
  {
   "cell_type": "code",
   "execution_count": 45,
   "metadata": {
    "code_folding": [
     0
    ]
   },
   "outputs": [
    {
     "data": {
      "image/png": "[encoded data removed]",
      "text/plain": [
       "<matplotlib.figure.Figure at 0x7fbf96536588>"
      ]
     },
     "metadata": {},
     "output_type": "display_data"
    }
   ],
   "source": [
    "# - Make a scissor plot comparing all Wohnviertels\n",
    "plt.figure()\n",
    "for nWV in vnWVIDs:\n",
    "    plotScissorWVIncome(nWV, nWV*1.1)\n",
    "    \n",
    "plt.title('Income distribtutions for all WVs')\n",
    "plt.xlabel('WV ID')\n",
    "plt.ylabel('kCHF per capita');"
   ]
  },
  {
   "cell_type": "markdown",
   "metadata": {},
   "source": [
    "What about income versus assets? How do those distributions compare? Let's examine Breite again."
   ]
  },
  {
   "cell_type": "code",
   "execution_count": 46,
   "metadata": {},
   "outputs": [
    {
     "data": {
      "image/png": "[encoded data removed]",
      "text/plain": [
       "<matplotlib.figure.Figure at 0x7fbf961c33c8>"
      ]
     },
     "metadata": {},
     "output_type": "display_data"
    }
   ],
   "source": [
    "# - Make a scissor plot of a income versus assets for Breite \n",
    "fig = plt.figure()\n",
    "plotScissorWVIncome(4, 1)\n",
    "plotScissorWVAssets(4, 3)\n",
    "plt.ylabel('kCHF per capita')\n",
    "plt.title('Wealth distribution for Breite')\n",
    "plt.xticks([1.5, 3.5], ['Income', 'Assets']);"
   ]
  },
  {
   "cell_type": "markdown",
   "metadata": {},
   "source": [
    "Asset distribution is much more unequal than income distribution, in Breite. This is also reflected in the Gini values for income and assets in Breite:"
   ]
  },
  {
   "cell_type": "code",
   "execution_count": 47,
   "metadata": {},
   "outputs": [
    {
     "data": {
      "text/html": [
       "<div>\n",
       "<style scoped>\n",
       "    .dataframe tbody tr th:only-of-type {\n",
       "        vertical-align: middle;\n",
       "    }\n",
       "\n",
       "    .dataframe tbody tr th {\n",
       "        vertical-align: top;\n",
       "    }\n",
       "\n",
       "    .dataframe thead th {\n",
       "        text-align: right;\n",
       "    }\n",
       "</style>\n",
       "<table border=\"1\" class=\"dataframe\">\n",
       "  <thead>\n",
       "    <tr style=\"text-align: right;\">\n",
       "      <th></th>\n",
       "      <th>Wohnviertel_income</th>\n",
       "      <th>wohnviertel_id</th>\n",
       "      <th>gini_income</th>\n",
       "      <th>gini_assets</th>\n",
       "    </tr>\n",
       "  </thead>\n",
       "  <tbody>\n",
       "    <tr>\n",
       "      <th>3</th>\n",
       "      <td>Breite</td>\n",
       "      <td>4</td>\n",
       "      <td>0.415</td>\n",
       "      <td>0.911</td>\n",
       "    </tr>\n",
       "  </tbody>\n",
       "</table>\n",
       "</div>"
      ],
      "text/plain": [
       "  Wohnviertel_income  wohnviertel_id  gini_income  gini_assets\n",
       "3             Breite               4        0.415        0.911"
      ]
     },
     "execution_count": 47,
     "metadata": {},
     "output_type": "execute_result"
    }
   ],
   "source": [
    "dfGini = dfGiniIncome.join(dfGiniAssets,\n",
    "                           on = 'wohnviertel_id',\n",
    "                           lsuffix = '_income',\n",
    "                           rsuffix = '_assets',\n",
    "                          )[['Wohnviertel_income',\n",
    "                             'wohnviertel_id',\n",
    "                             'gini_income',\n",
    "                             'gini_assets',\n",
    "                            ]]\n",
    "dfGini.loc[3:3]"
   ]
  },
  {
   "cell_type": "markdown",
   "metadata": {
    "heading_collapsed": true
   },
   "source": [
    "## Load extra datasets to correlate against GINI"
   ]
  },
  {
   "cell_type": "code",
   "execution_count": 48,
   "metadata": {
    "hidden": true
   },
   "outputs": [],
   "source": [
    "# - Read and process ancillary data\n",
    "def load_sort_dataset(strDataset, strVarName = None):\n",
    "    if strVarName is None:\n",
    "        strVarName = strDataset\n",
    "        \n",
    "    dfData = rd.read_ancillary_data(strDataset)\n",
    "    dfData = dfData.sort_values('wohnviertel_id')\n",
    "    return np.asarray(dfData[strVarName])\n",
    "\n",
    "vfPropGreenArea = load_sort_dataset('PropGreenArea')\n",
    "vfPropWomenAtWork = load_sort_dataset('PropWomenAtWork')\n",
    "vfPropSwiss = load_sort_dataset('PropSwiss')\n",
    "vfPropApartments = load_sort_dataset('Prop1-2RoomApartments', 'PropApartments')\n",
    "vnNumRobberies = load_sort_dataset('NumRobberies')\n",
    "vnNumRobberies[np.isnan(vnNumRobberies)] = 0\n",
    "vfNumDogsPer100 = load_sort_dataset('NumDogsPer100', 'NumDogs')\n",
    "vfPopPerHectare = load_sort_dataset('PopPerHectare', 'PopPerHect')\n",
    "vfTotalIncome = np.asarray(dfTotalIncome['total_income'])"
   ]
  },
  {
   "cell_type": "code",
   "execution_count": 49,
   "metadata": {
    "hidden": true
   },
   "outputs": [
    {
     "data": {
      "text/plain": [
       "[<matplotlib.lines.Line2D at 0x7fbf95f17dd8>]"
      ]
     },
     "execution_count": 49,
     "metadata": {},
     "output_type": "execute_result"
    },
    {
     "data": {
      "image/png": "[encoded data removed]",
      "text/plain": [
       "<matplotlib.figure.Figure at 0x7fbf96185c50>"
      ]
     },
     "metadata": {},
     "output_type": "display_data"
    }
   ],
   "source": [
    "# plt.axis((0, 1, 0, 100))\n",
    "plt.figure()\n",
    "plt.plot(vfGini_Income_BS, vfPropGreenArea, '.')\n",
    "plt.plot(vfGini_Income_BS, vfPropWomenAtWork, '.')\n",
    "plt.plot(vfGini_Income_BS, vfPropSwiss, '.')\n",
    "plt.plot(vfGini_Income_BS, vfPropApartments, '.')\n",
    "plt.plot(vfGini_Income_BS, vnNumRobberies, '.')\n",
    "plt.plot(vfGini_Income_BS, vfNumDogsPer100, '.')\n",
    "plt.plot(vfGini_Income_BS, vfPopPerHectare, '.')\n",
    "\n",
    "# print(np.corrcoef(vfGini_Income, vfPropGreenArea)[0][1],\n",
    "#     np.corrcoef(vfGini_Income, vfPropWomenAtWork)[0][1],\n",
    "#     np.corrcoef(vfGini_Income, vfPropSwiss)[0][1],\n",
    "#     np.corrcoef(vfGini_Income, vfPropApartments)[0][1],\n",
    "#     np.corrcoef(vfGini_Income, vnNumRobberies)[0][1],\n",
    "#     np.corrcoef(vfGini_Income, vfNumDogsPer100)[0][1],\n",
    "#     np.corrcoef(vfGini_Income, vfPopPerHectare)[0][1])\n",
    "\n",
    "# print(np.corrcoef(vfTotalIncome, vfPropGreenArea)[0][1],\n",
    "#     np.corrcoef(vfTotalIncome, vfPropWomenAtWork)[0][1],\n",
    "#     np.corrcoef(vfTotalIncome, vfPropSwiss)[0][1],\n",
    "#     np.corrcoef(vfTotalIncome, vfPropApartments)[0][1],\n",
    "#     np.corrcoef(vfTotalIncome, vnNumRobberies)[0][1],\n",
    "#     np.corrcoef(vfTotalIncome, vfNumDogsPer100)[0][1],\n",
    "#     np.corrcoef(vfTotalIncome, vfPopPerHectare)[0][1])\n",
    "\n",
    "# print(np.corrcoef(vfPropWomenAtWork, vfPropGreenArea)[0][1],\n",
    "#     np.corrcoef(vfPropWomenAtWork, vfPropWomenAtWork)[0][1],\n",
    "#     np.corrcoef(vfPropWomenAtWork, vfPropSwiss)[0][1],\n",
    "#     np.corrcoef(vfPropWomenAtWork, vfPropApartments)[0][1],\n",
    "#     np.corrcoef(vfPropWomenAtWork, vnNumRobberies)[0][1],\n",
    "#     np.corrcoef(vfPropWomenAtWork, vfNumDogsPer100)[0][1],\n",
    "#     np.corrcoef(vfPropWomenAtWork, vfPopPerHectare)[0][1])\n",
    "\n",
    "# print(np.corrcoef(vfPropWomenAtWork, vfPropGreenArea)[0][1],\n",
    "#     np.corrcoef(vfPropWomenAtWork, vfPropWomenAtWork)[0][1],\n",
    "#     np.corrcoef(vfPropWomenAtWork, vfPropSwiss)[0][1],\n",
    "#     np.corrcoef(vfPropWomenAtWork, vfPropApartments)[0][1],\n",
    "#     np.corrcoef(vfPropWomenAtWork, vnNumRobberies)[0][1],\n",
    "#     np.corrcoef(vfPropWomenAtWork, vfNumDogsPer100)[0][1],\n",
    "#     np.corrcoef(vfPropWomenAtWork, vfPopPerHectare)[0][1])\n"
   ]
  },
  {
   "cell_type": "markdown",
   "metadata": {
    "heading_collapsed": true
   },
   "source": [
    "## Produce correlation matrices to examine relationships between GINI and other metrics"
   ]
  },
  {
   "cell_type": "code",
   "execution_count": 50,
   "metadata": {
    "hidden": true
   },
   "outputs": [
    {
     "data": {
      "text/plain": [
       "[(-0.9085169752865186, 'Prop Green Area', 'Prop small apartments'),\n",
       " (-0.8094470624521711, 'Prop small apartments', 'Dogs per cap'),\n",
       " (-0.7727044190931351, 'Dogs per cap', 'Pop per hect'),\n",
       " (-0.7542769225524181, 'Prop Swiss', 'Prop small apartments'),\n",
       " (-0.5893102769108419, 'Income per cap', 'Prop small apartments'),\n",
       " (-0.5761096343610519, 'Income per cap', 'Pop per hect'),\n",
       " (-0.507396600714609, 'Prop Green Area', 'Pop per hect'),\n",
       " (-0.45564665188572795, 'Prop Swiss', 'Pop per hect'),\n",
       " (-0.40318312499251835, 'GINI_Assets', 'Pop per hect'),\n",
       " (-0.3747864495058813, 'GINI_Income', 'Pop per hect'),\n",
       " (-0.35183009841671403, 'Prop Women at work', 'Prop small apartments'),\n",
       " (-0.2457742097130898, 'Prop Women at work', 'Num robberies'),\n",
       " (-0.23408587958393068, 'Prop Women at work', 'Pop per hect'),\n",
       " (-0.21400834152373144, 'GINI_Income', 'Prop small apartments'),\n",
       " (-0.15680263002245154, 'Num robberies', 'Dogs per cap'),\n",
       " (-0.15077783599983066, 'GINI_Assets', 'Prop small apartments'),\n",
       " (-0.12528815725986228, 'GINI_Assets', 'Num robberies'),\n",
       " (-0.0423680186156328, 'Prop small apartments', 'Num robberies'),\n",
       " (-0.017525960106046477, 'GINI_Income', 'Num robberies'),\n",
       " (0.00830226796575583, 'Income per cap', 'Num robberies'),\n",
       " (0.024093556675826102, 'Prop Swiss', 'Num robberies'),\n",
       " (0.04482118542497442, 'Num robberies', 'Pop per hect'),\n",
       " (0.06272944327251705, 'Prop Green Area', 'Num robberies'),\n",
       " (0.11225031040218719, 'GINI_Assets', 'Prop Swiss'),\n",
       " (0.20398110807094993, 'GINI_Assets', 'Prop Green Area'),\n",
       " (0.23636985581385891, 'GINI_Income', 'Prop Green Area'),\n",
       " (0.27756514919470326, 'GINI_Income', 'Dogs per cap'),\n",
       " (0.31225803543196773, 'Prop Women at work', 'Dogs per cap'),\n",
       " (0.337973244090434, 'GINI_Assets', 'Dogs per cap'),\n",
       " (0.35512629192300443, 'GINI_Income', 'Prop Swiss'),\n",
       " (0.41934332846505523, 'GINI_Assets', 'Prop Women at work'),\n",
       " (0.464312586706061, 'Prop Swiss', 'Dogs per cap'),\n",
       " (0.5012699921050141, 'Prop Green Area', 'Prop Women at work'),\n",
       " (0.5417882319896125, 'Income per cap', 'Dogs per cap'),\n",
       " (0.5762019243114008, 'Income per cap', 'Prop Green Area'),\n",
       " (0.6034119471048968, 'GINI_Income', 'Prop Women at work'),\n",
       " (0.6142621938087909, 'Prop small apartments', 'Pop per hect'),\n",
       " (0.6295540175785505, 'Income per cap', 'Prop Women at work'),\n",
       " (0.6347761964438953, 'Prop Women at work', 'Prop Swiss'),\n",
       " (0.668662038001907, 'Income per cap', 'Prop Swiss'),\n",
       " (0.6856155806755986, 'Prop Green Area', 'Prop Swiss'),\n",
       " (0.7347619897106114, 'GINI_Assets', 'Income per cap'),\n",
       " (0.8108846874562319, 'Prop Green Area', 'Dogs per cap'),\n",
       " (0.8679091015889769, 'GINI_Income', 'Income per cap'),\n",
       " (0.8779705282140617, 'GINI_Income', 'GINI_Assets')]"
      ]
     },
     "execution_count": 50,
     "metadata": {},
     "output_type": "execute_result"
    }
   ],
   "source": [
    "# - Build a magtrix of metrics\n",
    "mfMatrix = np.stack((vfGini_Income_BS,\n",
    "                     vfGini_Assets_BS,\n",
    "                     vfTotalIncome / np.asarray(vnTotalDeclarations),\n",
    "                     vfPropGreenArea,\n",
    "                     vfPropWomenAtWork,\n",
    "                     vfPropSwiss,\n",
    "                     vfPropApartments,\n",
    "                     vnNumRobberies,\n",
    "                     vfNumDogsPer100,\n",
    "                     vfPopPerHectare),)\n",
    "\n",
    "# - List of metric names\n",
    "vstrIndicators = np.asarray(['GINI_Income',\n",
    "                             'GINI_Assets',\n",
    "                  'Income per cap',\n",
    "                  'Prop Green Area',\n",
    "                  'Prop Women at work',\n",
    "                  'Prop Swiss',\n",
    "                  'Prop small apartments',\n",
    "                  'Num robberies',\n",
    "                  'Dogs per cap',\n",
    "                  'Pop per hect'\n",
    "                 ])\n",
    "\n",
    "# - Compute the correlation matrix\n",
    "mfCorr = np.corrcoef(mfMatrix)\n",
    "# plt.imshow(mfCorr)\n",
    "\n",
    "# - Remove lower triangular portion\n",
    "mfCorr[np.tril_indices(mfCorr.shape[0])] = 0\n",
    "\n",
    "# - Sort by correlation coefficients\n",
    "vnTriUInds = np.triu_indices(mfCorr.shape[0], 1)\n",
    "vfCorrs = mfCorr[vnTriUInds]\n",
    "vnSortedIndices = np.argsort(vfCorrs)\n",
    "\n",
    "# - Display a list of strongest effects\n",
    "list(zip(vfCorrs[vnSortedIndices],\n",
    "         vstrIndicators[vnTriUInds[0][vnSortedIndices]],\n",
    "         vstrIndicators[vnTriUInds[1][vnSortedIndices]]))"
   ]
  },
  {
   "cell_type": "code",
   "execution_count": 51,
   "metadata": {
    "hidden": true
   },
   "outputs": [
    {
     "data": {
      "text/plain": [
       "[-0.4556466518857281, 0.037913685849141655]"
      ]
     },
     "execution_count": 51,
     "metadata": {},
     "output_type": "execute_result"
    }
   ],
   "source": [
    "# - Compute Pearson's R and P-value for a single relationship\n",
    "# [vfR, vfP] = sps.pearsonr(vfTotalIncome / np.asarray(vnTotalDeclarations), vfNumDogsPer100)\n",
    "# [vfR, vfP] = sps.pearsonr(vfPropWomenAtWork, vfTotalIncome / np.asarray(vnTotalDeclarations))\n",
    "#[vfR, vfP] = sps.pearsonr(vfNumDogsPer100, vfTotalIncome / np.asarray(vnTotalDeclarations))\n",
    "[vfR, vfP] = sps.pearsonr(vfNumDogsPer100, vfPropSwiss)\n",
    "[vfR, vfP] = sps.pearsonr(vfPropSwiss, vfPopPerHectare)\n",
    "[vfR, vfP]"
   ]
  },
  {
   "cell_type": "code",
   "execution_count": 52,
   "metadata": {
    "hidden": true
   },
   "outputs": [
    {
     "data": {
      "text/plain": [
       "array([3, 6, 8, 5, 2, 2, 3, 5, 1, 0, 4, 4, 4, 0, 7, 1, 1, 6, 0, 2, 5, 7,\n",
       "       3, 1, 1, 0, 0, 4, 1, 0, 1, 5, 3, 2, 2, 0, 6, 2, 4, 2, 3, 1, 3, 0,\n",
       "       0])"
      ]
     },
     "execution_count": 52,
     "metadata": {},
     "output_type": "execute_result"
    }
   ],
   "source": [
    "vnTriUInds[0][vnSortedIndices]"
   ]
  },
  {
   "cell_type": "code",
   "execution_count": 53,
   "metadata": {
    "hidden": true
   },
   "outputs": [
    {
     "data": {
      "text/plain": [
       "<matplotlib.image.AxesImage at 0x7fbf952e1cc0>"
      ]
     },
     "execution_count": 53,
     "metadata": {},
     "output_type": "execute_result"
    },
    {
     "data": {
      "image/png": "[encoded data removed]",
      "text/plain": [
       "<matplotlib.figure.Figure at 0x7fbf9ee6ceb8>"
      ]
     },
     "metadata": {},
     "output_type": "display_data"
    }
   ],
   "source": [
    "plt.figure()\n",
    "plt.imshow(-mfCorr)"
   ]
  },
  {
   "cell_type": "code",
   "execution_count": 54,
   "metadata": {
    "hidden": true
   },
   "outputs": [],
   "source": [
    "# - Map gini for income and assets\n",
    "\n",
    "# - Construct data frames for income Gini\n",
    "dfGini = pd.DataFrame({'wohnviertel_id': vnWVIDs,\n",
    "                       'gini_income': np.asarray(vfGini_Income_BS),\n",
    "                       'gini_assets': np.asarray(vfGini_Assets_BS),\n",
    "                       'gini_income_tax': np.asarray(vfGini_IncomeTax),\n",
    "                       'gini_asset_tax': np.asarray(vfGini_AssetTax),\n",
    "                       'PropGreenArea': vfPropGreenArea,\n",
    "                       'PropWomenAtWork': vfPropWomenAtWork,\n",
    "                       'PropSwiss': vfPropSwiss,\n",
    "                       'PropApartments': vfPropApartments,\n",
    "                       'NumRobberies': vnNumRobberies,\n",
    "                       'NumDogsPer100': vfNumDogsPer100,\n",
    "                       'PopPerHectare': vfPopPerHectare,\n",
    "                      })\n",
    "\n",
    "dfGini = pd.merge(dfGini, dfMapWVid_geoID,\n",
    "                  on = 'wohnviertel_id')\n",
    "\n",
    "# - Merge with the map data \n",
    "gdfMapGini = pd.merge(gdfMap, dfGini,\n",
    "                      left_on = 'OBJECTID', right_on = 'geo_wohnviertel_id')"
   ]
  },
  {
   "cell_type": "code",
   "execution_count": 55,
   "metadata": {
    "hidden": true
   },
   "outputs": [
    {
     "data": {
      "image/png": "[encoded data removed]",
      "text/plain": [
       "<matplotlib.figure.Figure at 0x7fbf952f3438>"
      ]
     },
     "metadata": {},
     "output_type": "display_data"
    }
   ],
   "source": [
    "ax = gdfMapGini.plot(column = 'gini_income', vmin = 0.3, vmax = .6)\n",
    "plt.axis('off')\n",
    "plt.title('Gini (income)')\n",
    "fig = ax.get_figure()\n",
    "cax = fig.add_axes([0.9, 0.1, 0.03, 0.8])\n",
    "sm = plt.cm.ScalarMappable(norm=plt.Normalize(vmin=0, vmax=1))\n",
    "# fake up the array of the scalar mappable. Urgh...\n",
    "sm._A = []\n",
    "fig.colorbar(sm, cax=cax).set_label('Gini coeff.')"
   ]
  },
  {
   "cell_type": "code",
   "execution_count": 56,
   "metadata": {
    "hidden": true
   },
   "outputs": [
    {
     "data": {
      "image/png": "[encoded data removed]",
      "text/plain": [
       "<matplotlib.figure.Figure at 0x7fbf9525ea58>"
      ]
     },
     "metadata": {},
     "output_type": "display_data"
    }
   ],
   "source": [
    "ax = gdfMapGini.plot(column = 'PropGreenArea', vmin = 0, vmax = 100)\n",
    "plt.axis('off')\n",
    "plt.title('Prop. green area')\n",
    "fig = ax.get_figure()\n",
    "cax = fig.add_axes([0.9, 0.1, 0.03, 0.8])\n",
    "sm = plt.cm.ScalarMappable(norm=plt.Normalize(vmin=0, vmax=100))\n",
    "# fake up the array of the scalar mappable. Urgh...\n",
    "sm._A = []\n",
    "fig.colorbar(sm, cax=cax).set_label('Prop. green area')"
   ]
  },
  {
   "cell_type": "code",
   "execution_count": 57,
   "metadata": {
    "hidden": true
   },
   "outputs": [
    {
     "data": {
      "text/html": [
       "<div>\n",
       "<style scoped>\n",
       "    .dataframe tbody tr th:only-of-type {\n",
       "        vertical-align: middle;\n",
       "    }\n",
       "\n",
       "    .dataframe tbody tr th {\n",
       "        vertical-align: top;\n",
       "    }\n",
       "\n",
       "    .dataframe thead th {\n",
       "        text-align: right;\n",
       "    }\n",
       "</style>\n",
       "<table border=\"1\" class=\"dataframe\">\n",
       "  <thead>\n",
       "    <tr style=\"text-align: right;\">\n",
       "      <th></th>\n",
       "      <th>wohnviertel_id</th>\n",
       "      <th>Wohnviertel</th>\n",
       "      <th>assetquintile_id</th>\n",
       "      <th>num_declarations</th>\n",
       "      <th>total_assets</th>\n",
       "      <th>total_asset_tax</th>\n",
       "      <th>marginal_tax_rate</th>\n",
       "    </tr>\n",
       "  </thead>\n",
       "  <tbody>\n",
       "    <tr>\n",
       "      <th>30</th>\n",
       "      <td>7</td>\n",
       "      <td>Bruderholz</td>\n",
       "      <td>1</td>\n",
       "      <td>1004</td>\n",
       "      <td>70098</td>\n",
       "      <td>0</td>\n",
       "      <td>0.000000</td>\n",
       "    </tr>\n",
       "    <tr>\n",
       "      <th>31</th>\n",
       "      <td>7</td>\n",
       "      <td>Bruderholz</td>\n",
       "      <td>2</td>\n",
       "      <td>991</td>\n",
       "      <td>10188488</td>\n",
       "      <td>0</td>\n",
       "      <td>0.000000</td>\n",
       "    </tr>\n",
       "    <tr>\n",
       "      <th>32</th>\n",
       "      <td>7</td>\n",
       "      <td>Bruderholz</td>\n",
       "      <td>3</td>\n",
       "      <td>997</td>\n",
       "      <td>69200973</td>\n",
       "      <td>22069</td>\n",
       "      <td>0.000319</td>\n",
       "    </tr>\n",
       "    <tr>\n",
       "      <th>33</th>\n",
       "      <td>7</td>\n",
       "      <td>Bruderholz</td>\n",
       "      <td>4</td>\n",
       "      <td>997</td>\n",
       "      <td>312416913</td>\n",
       "      <td>803083</td>\n",
       "      <td>0.002571</td>\n",
       "    </tr>\n",
       "    <tr>\n",
       "      <th>34</th>\n",
       "      <td>7</td>\n",
       "      <td>Bruderholz</td>\n",
       "      <td>5</td>\n",
       "      <td>997</td>\n",
       "      <td>12169879848</td>\n",
       "      <td>89278854</td>\n",
       "      <td>0.007336</td>\n",
       "    </tr>\n",
       "  </tbody>\n",
       "</table>\n",
       "</div>"
      ],
      "text/plain": [
       "    wohnviertel_id Wohnviertel  assetquintile_id  num_declarations  \\\n",
       "30               7  Bruderholz                 1              1004   \n",
       "31               7  Bruderholz                 2               991   \n",
       "32               7  Bruderholz                 3               997   \n",
       "33               7  Bruderholz                 4               997   \n",
       "34               7  Bruderholz                 5               997   \n",
       "\n",
       "    total_assets  total_asset_tax  marginal_tax_rate  \n",
       "30         70098                0           0.000000  \n",
       "31      10188488                0           0.000000  \n",
       "32      69200973            22069           0.000319  \n",
       "33     312416913           803083           0.002571  \n",
       "34   12169879848         89278854           0.007336  "
      ]
     },
     "execution_count": 57,
     "metadata": {},
     "output_type": "execute_result"
    }
   ],
   "source": [
    "dfAssetsQ[find_WVQ(7)]"
   ]
  },
  {
   "cell_type": "markdown",
   "metadata": {},
   "source": [
    "# Income and Asset distributions\n",
    "One salient aspect of the data is the unequal distributions of assets compared with income, within and between Wohnvierteln. This is clearly reflected in the Gini for assets being very high, and higher than the Gini for income.\n",
    "\n",
    "Let's compare the income and asset distributions visually."
   ]
  },
  {
   "cell_type": "code",
   "execution_count": 58,
   "metadata": {
    "code_folding": [
     0
    ]
   },
   "outputs": [],
   "source": [
    "# Functions to visually compare distributions of income vs assets \n",
    "def income_vs_assets(nQ):\n",
    "    plt.scatter([1, 2, 3, 4, 5], dfIncomeQ[find_WVQ(nQ)].total_income / 1e9)\n",
    "    plt.scatter([1, 2, 3, 4, 5], dfAssetsQ[find_WVQ(nQ)].total_assets / 1e9)\n",
    "    plt.xlabel('Income / Assets quintile')\n",
    "    plt.ylabel('Total income / total assets (B CHF)')\n",
    "    plt.xticks([1, 2, 3, 4, 5], ['20%', '40%', '60%', '80%', '100%'])\n",
    "\n",
    "def income_vs_assets_norm(nQ):\n",
    "    vfIncome = np.asarray(dfIncomeQ[find_WVQ(nQ)].total_income)\n",
    "    vfAssets = np.asarray(dfAssetsQ[find_WVQ(nQ)].total_assets)\n",
    "    plt.scatter([1, 2, 3, 4, 5], vfIncome / vfIncome[-1])\n",
    "    plt.scatter([1, 2, 3, 4, 5], vfAssets / vfAssets[-1])\n",
    "    plt.xlabel('Income / Assets quintile')\n",
    "    plt.ylabel('Prop. of total income / assets')\n",
    "    plt.xticks([1, 2, 3, 4, 5], ['20%', '40%', '60%', '80%', '100%'])"
   ]
  },
  {
   "cell_type": "code",
   "execution_count": 59,
   "metadata": {},
   "outputs": [
    {
     "data": {
      "image/png": "[encoded data removed]",
      "text/plain": [
       "<matplotlib.figure.Figure at 0x7fbf952f81d0>"
      ]
     },
     "metadata": {},
     "output_type": "display_data"
    }
   ],
   "source": [
    "plt.figure()\n",
    "income_vs_assets_norm(30)"
   ]
  },
  {
   "cell_type": "code",
   "execution_count": 60,
   "metadata": {},
   "outputs": [
    {
     "data": {
      "text/plain": [
       "<matplotlib.collections.PathCollection at 0x7fbf963daac8>"
      ]
     },
     "execution_count": 60,
     "metadata": {},
     "output_type": "execute_result"
    },
    {
     "data": {
      "image/png": "[encoded data removed]",
      "text/plain": [
       "<matplotlib.figure.Figure at 0x7fbf962a8668>"
      ]
     },
     "metadata": {},
     "output_type": "display_data"
    }
   ],
   "source": [
    "plt.figure()\n",
    "plt.scatter(vfGini_Income_BS, vfGini_Assets_BS)"
   ]
  },
  {
   "cell_type": "code",
   "execution_count": 61,
   "metadata": {},
   "outputs": [],
   "source": [
    "def assets_per_capita(nQ):\n",
    "    return np.sum(dfAssetsQ[find_WVQ(nQ)].total_assets) / np.sum(dfAssetsQ[find_WVQ(nQ)].num_declarations)\n",
    "    \n",
    "assets_per_capita(3)\n",
    "vfAssetsPerCap = [assets_per_capita(nQ) for nQ in vnWVIDs]"
   ]
  },
  {
   "cell_type": "code",
   "execution_count": 62,
   "metadata": {},
   "outputs": [
    {
     "data": {
      "text/plain": [
       "array([1015165., 1392666.,  435416.,  140160., 1033797.,  145346.,\n",
       "       2519406.,  413563.,  229962.,  130113.,  131943.,  249077.,\n",
       "        130164.,  296022.,  186072.,   76964.,  128623.,   59248.,\n",
       "         68636.,  642705., 2359934.])"
      ]
     },
     "execution_count": 62,
     "metadata": {},
     "output_type": "execute_result"
    }
   ],
   "source": [
    "np.round(vfAssetsPerCap)"
   ]
  },
  {
   "cell_type": "code",
   "execution_count": 63,
   "metadata": {},
   "outputs": [
    {
     "data": {
      "text/html": [
       "<div>\n",
       "<style scoped>\n",
       "    .dataframe tbody tr th:only-of-type {\n",
       "        vertical-align: middle;\n",
       "    }\n",
       "\n",
       "    .dataframe tbody tr th {\n",
       "        vertical-align: top;\n",
       "    }\n",
       "\n",
       "    .dataframe thead th {\n",
       "        text-align: right;\n",
       "    }\n",
       "</style>\n",
       "<table border=\"1\" class=\"dataframe\">\n",
       "  <thead>\n",
       "    <tr style=\"text-align: right;\">\n",
       "      <th></th>\n",
       "      <th>wohnviertel_id</th>\n",
       "      <th>Wohnviertel</th>\n",
       "      <th>assetquintile_id</th>\n",
       "      <th>num_declarations</th>\n",
       "      <th>total_assets</th>\n",
       "      <th>total_asset_tax</th>\n",
       "      <th>marginal_tax_rate</th>\n",
       "    </tr>\n",
       "  </thead>\n",
       "  <tbody>\n",
       "    <tr>\n",
       "      <th>100</th>\n",
       "      <td>30</td>\n",
       "      <td>Bettingen</td>\n",
       "      <td>1</td>\n",
       "      <td>126</td>\n",
       "      <td>16237</td>\n",
       "      <td>0</td>\n",
       "      <td>0.000000</td>\n",
       "    </tr>\n",
       "    <tr>\n",
       "      <th>101</th>\n",
       "      <td>30</td>\n",
       "      <td>Bettingen</td>\n",
       "      <td>2</td>\n",
       "      <td>126</td>\n",
       "      <td>1234094</td>\n",
       "      <td>0</td>\n",
       "      <td>0.000000</td>\n",
       "    </tr>\n",
       "    <tr>\n",
       "      <th>102</th>\n",
       "      <td>30</td>\n",
       "      <td>Bettingen</td>\n",
       "      <td>3</td>\n",
       "      <td>125</td>\n",
       "      <td>10834640</td>\n",
       "      <td>6090</td>\n",
       "      <td>0.000562</td>\n",
       "    </tr>\n",
       "    <tr>\n",
       "      <th>103</th>\n",
       "      <td>30</td>\n",
       "      <td>Bettingen</td>\n",
       "      <td>4</td>\n",
       "      <td>126</td>\n",
       "      <td>51162687</td>\n",
       "      <td>149605</td>\n",
       "      <td>0.002924</td>\n",
       "    </tr>\n",
       "    <tr>\n",
       "      <th>104</th>\n",
       "      <td>30</td>\n",
       "      <td>Bettingen</td>\n",
       "      <td>5</td>\n",
       "      <td>125</td>\n",
       "      <td>1418790612</td>\n",
       "      <td>9597244</td>\n",
       "      <td>0.006764</td>\n",
       "    </tr>\n",
       "  </tbody>\n",
       "</table>\n",
       "</div>"
      ],
      "text/plain": [
       "     wohnviertel_id Wohnviertel  assetquintile_id  num_declarations  \\\n",
       "100              30   Bettingen                 1               126   \n",
       "101              30   Bettingen                 2               126   \n",
       "102              30   Bettingen                 3               125   \n",
       "103              30   Bettingen                 4               126   \n",
       "104              30   Bettingen                 5               125   \n",
       "\n",
       "     total_assets  total_asset_tax  marginal_tax_rate  \n",
       "100         16237                0           0.000000  \n",
       "101       1234094                0           0.000000  \n",
       "102      10834640             6090           0.000562  \n",
       "103      51162687           149605           0.002924  \n",
       "104    1418790612          9597244           0.006764  "
      ]
     },
     "execution_count": 63,
     "metadata": {},
     "output_type": "execute_result"
    }
   ],
   "source": [
    "dfAssetsQ[find_WVQ(30)]"
   ]
  },
  {
   "cell_type": "code",
   "execution_count": 64,
   "metadata": {},
   "outputs": [],
   "source": [
    "# - Construct data frames for assets\n",
    "dfAssetsPerCap = pd.DataFrame({'wohnviertel_id': vnWVIDs,\n",
    "                               'Assets_percap': vfAssetsPerCap,\n",
    "                              })\n",
    "\n",
    "dfAssetsPerCap = pd.merge(dfAssetsPerCap, dfMapWVid_geoID,\n",
    "                          on = 'wohnviertel_id')\n",
    "\n",
    "# - Merge with the map data \n",
    "gdfMapAPC = pd.merge(gdfMap, dfAssetsPerCap,\n",
    "                      left_on = 'OBJECTID', right_on = 'geo_wohnviertel_id')"
   ]
  },
  {
   "cell_type": "code",
   "execution_count": 65,
   "metadata": {},
   "outputs": [
    {
     "data": {
      "text/plain": [
       "Text(0.5,1,'Assets per cap.')"
      ]
     },
     "execution_count": 65,
     "metadata": {},
     "output_type": "execute_result"
    },
    {
     "data": {
      "image/png": "[encoded data removed]",
      "text/plain": [
       "<matplotlib.figure.Figure at 0x7fbf963a5ba8>"
      ]
     },
     "metadata": {},
     "output_type": "display_data"
    }
   ],
   "source": [
    "ax = gdfMapAPC.plot(column = 'Assets_percap')\n",
    "plt.axis('off')\n",
    "plt.title('Assets per cap.')\n"
   ]
  },
  {
   "cell_type": "code",
   "execution_count": 66,
   "metadata": {},
   "outputs": [
    {
     "data": {
      "text/html": [
       "<div>\n",
       "<style scoped>\n",
       "    .dataframe tbody tr th:only-of-type {\n",
       "        vertical-align: middle;\n",
       "    }\n",
       "\n",
       "    .dataframe tbody tr th {\n",
       "        vertical-align: top;\n",
       "    }\n",
       "\n",
       "    .dataframe thead th {\n",
       "        text-align: right;\n",
       "    }\n",
       "</style>\n",
       "<table border=\"1\" class=\"dataframe\">\n",
       "  <thead>\n",
       "    <tr style=\"text-align: right;\">\n",
       "      <th></th>\n",
       "      <th>Assets_percap</th>\n",
       "      <th>wohnviertel_id</th>\n",
       "      <th>geo_wohnviertel_id</th>\n",
       "      <th>Wohnviertel</th>\n",
       "    </tr>\n",
       "  </thead>\n",
       "  <tbody>\n",
       "    <tr>\n",
       "      <th>0</th>\n",
       "      <td>1.015165e+06</td>\n",
       "      <td>1</td>\n",
       "      <td>7</td>\n",
       "      <td>Altstadt Grossbasel</td>\n",
       "    </tr>\n",
       "    <tr>\n",
       "      <th>1</th>\n",
       "      <td>1.392666e+06</td>\n",
       "      <td>2</td>\n",
       "      <td>6</td>\n",
       "      <td>Vorstaedte</td>\n",
       "    </tr>\n",
       "    <tr>\n",
       "      <th>2</th>\n",
       "      <td>4.354163e+05</td>\n",
       "      <td>3</td>\n",
       "      <td>8</td>\n",
       "      <td>Am Ring</td>\n",
       "    </tr>\n",
       "    <tr>\n",
       "      <th>3</th>\n",
       "      <td>1.401603e+05</td>\n",
       "      <td>4</td>\n",
       "      <td>4</td>\n",
       "      <td>Breite</td>\n",
       "    </tr>\n",
       "    <tr>\n",
       "      <th>4</th>\n",
       "      <td>1.033797e+06</td>\n",
       "      <td>5</td>\n",
       "      <td>3</td>\n",
       "      <td>St. Alban</td>\n",
       "    </tr>\n",
       "    <tr>\n",
       "      <th>5</th>\n",
       "      <td>1.453460e+05</td>\n",
       "      <td>6</td>\n",
       "      <td>2</td>\n",
       "      <td>Gundeldingen</td>\n",
       "    </tr>\n",
       "    <tr>\n",
       "      <th>6</th>\n",
       "      <td>2.519406e+06</td>\n",
       "      <td>7</td>\n",
       "      <td>1</td>\n",
       "      <td>Bruderholz</td>\n",
       "    </tr>\n",
       "    <tr>\n",
       "      <th>7</th>\n",
       "      <td>4.135633e+05</td>\n",
       "      <td>8</td>\n",
       "      <td>5</td>\n",
       "      <td>Bachletten</td>\n",
       "    </tr>\n",
       "    <tr>\n",
       "      <th>8</th>\n",
       "      <td>2.299625e+05</td>\n",
       "      <td>9</td>\n",
       "      <td>9</td>\n",
       "      <td>Gotthelf</td>\n",
       "    </tr>\n",
       "    <tr>\n",
       "      <th>9</th>\n",
       "      <td>1.301127e+05</td>\n",
       "      <td>10</td>\n",
       "      <td>10</td>\n",
       "      <td>Iselin</td>\n",
       "    </tr>\n",
       "    <tr>\n",
       "      <th>10</th>\n",
       "      <td>1.319428e+05</td>\n",
       "      <td>11</td>\n",
       "      <td>11</td>\n",
       "      <td>St. Johann</td>\n",
       "    </tr>\n",
       "    <tr>\n",
       "      <th>11</th>\n",
       "      <td>2.490768e+05</td>\n",
       "      <td>12</td>\n",
       "      <td>12</td>\n",
       "      <td>Altstadt Kleinbasel</td>\n",
       "    </tr>\n",
       "    <tr>\n",
       "      <th>12</th>\n",
       "      <td>1.301640e+05</td>\n",
       "      <td>13</td>\n",
       "      <td>13</td>\n",
       "      <td>Clara</td>\n",
       "    </tr>\n",
       "    <tr>\n",
       "      <th>13</th>\n",
       "      <td>2.960222e+05</td>\n",
       "      <td>14</td>\n",
       "      <td>14</td>\n",
       "      <td>Wettstein</td>\n",
       "    </tr>\n",
       "    <tr>\n",
       "      <th>14</th>\n",
       "      <td>1.860717e+05</td>\n",
       "      <td>15</td>\n",
       "      <td>15</td>\n",
       "      <td>Hirzbrunnen</td>\n",
       "    </tr>\n",
       "    <tr>\n",
       "      <th>15</th>\n",
       "      <td>7.696407e+04</td>\n",
       "      <td>16</td>\n",
       "      <td>18</td>\n",
       "      <td>Rosental</td>\n",
       "    </tr>\n",
       "    <tr>\n",
       "      <th>16</th>\n",
       "      <td>1.286225e+05</td>\n",
       "      <td>17</td>\n",
       "      <td>19</td>\n",
       "      <td>Matthaeus</td>\n",
       "    </tr>\n",
       "    <tr>\n",
       "      <th>17</th>\n",
       "      <td>5.924808e+04</td>\n",
       "      <td>18</td>\n",
       "      <td>17</td>\n",
       "      <td>Klybeck</td>\n",
       "    </tr>\n",
       "    <tr>\n",
       "      <th>18</th>\n",
       "      <td>6.863598e+04</td>\n",
       "      <td>19</td>\n",
       "      <td>16</td>\n",
       "      <td>Kleinhueningen</td>\n",
       "    </tr>\n",
       "    <tr>\n",
       "      <th>19</th>\n",
       "      <td>6.427047e+05</td>\n",
       "      <td>20</td>\n",
       "      <td>20</td>\n",
       "      <td>Riehen</td>\n",
       "    </tr>\n",
       "    <tr>\n",
       "      <th>20</th>\n",
       "      <td>2.359934e+06</td>\n",
       "      <td>30</td>\n",
       "      <td>21</td>\n",
       "      <td>Bettingen</td>\n",
       "    </tr>\n",
       "  </tbody>\n",
       "</table>\n",
       "</div>"
      ],
      "text/plain": [
       "    Assets_percap  wohnviertel_id  geo_wohnviertel_id          Wohnviertel\n",
       "0    1.015165e+06               1                   7  Altstadt Grossbasel\n",
       "1    1.392666e+06               2                   6           Vorstaedte\n",
       "2    4.354163e+05               3                   8              Am Ring\n",
       "3    1.401603e+05               4                   4               Breite\n",
       "4    1.033797e+06               5                   3            St. Alban\n",
       "5    1.453460e+05               6                   2         Gundeldingen\n",
       "6    2.519406e+06               7                   1           Bruderholz\n",
       "7    4.135633e+05               8                   5           Bachletten\n",
       "8    2.299625e+05               9                   9             Gotthelf\n",
       "9    1.301127e+05              10                  10               Iselin\n",
       "10   1.319428e+05              11                  11           St. Johann\n",
       "11   2.490768e+05              12                  12  Altstadt Kleinbasel\n",
       "12   1.301640e+05              13                  13                Clara\n",
       "13   2.960222e+05              14                  14            Wettstein\n",
       "14   1.860717e+05              15                  15          Hirzbrunnen\n",
       "15   7.696407e+04              16                  18             Rosental\n",
       "16   1.286225e+05              17                  19            Matthaeus\n",
       "17   5.924808e+04              18                  17              Klybeck\n",
       "18   6.863598e+04              19                  16       Kleinhueningen\n",
       "19   6.427047e+05              20                  20               Riehen\n",
       "20   2.359934e+06              30                  21            Bettingen"
      ]
     },
     "execution_count": 66,
     "metadata": {},
     "output_type": "execute_result"
    }
   ],
   "source": [
    "dfMapWVid_geoID\n",
    "dfAssetsPerCap"
   ]
  },
  {
   "cell_type": "code",
   "execution_count": 67,
   "metadata": {},
   "outputs": [
    {
     "data": {
      "text/html": [
       "<div>\n",
       "<style scoped>\n",
       "    .dataframe tbody tr th:only-of-type {\n",
       "        vertical-align: middle;\n",
       "    }\n",
       "\n",
       "    .dataframe tbody tr th {\n",
       "        vertical-align: top;\n",
       "    }\n",
       "\n",
       "    .dataframe thead th {\n",
       "        text-align: right;\n",
       "    }\n",
       "</style>\n",
       "<table border=\"1\" class=\"dataframe\">\n",
       "  <thead>\n",
       "    <tr style=\"text-align: right;\">\n",
       "      <th></th>\n",
       "      <th>Assets_percap</th>\n",
       "      <th>wohnviertel_id</th>\n",
       "      <th>geo_wohnviertel_id_x</th>\n",
       "      <th>Wohnviertel_x</th>\n",
       "      <th>geo_wohnviertel_id_y</th>\n",
       "      <th>Wohnviertel_y</th>\n",
       "    </tr>\n",
       "  </thead>\n",
       "  <tbody>\n",
       "    <tr>\n",
       "      <th>17</th>\n",
       "      <td>5.924808e+04</td>\n",
       "      <td>18</td>\n",
       "      <td>17</td>\n",
       "      <td>Klybeck</td>\n",
       "      <td>17</td>\n",
       "      <td>Klybeck</td>\n",
       "    </tr>\n",
       "    <tr>\n",
       "      <th>18</th>\n",
       "      <td>6.863598e+04</td>\n",
       "      <td>19</td>\n",
       "      <td>16</td>\n",
       "      <td>Kleinhueningen</td>\n",
       "      <td>16</td>\n",
       "      <td>Kleinhueningen</td>\n",
       "    </tr>\n",
       "    <tr>\n",
       "      <th>15</th>\n",
       "      <td>7.696407e+04</td>\n",
       "      <td>16</td>\n",
       "      <td>18</td>\n",
       "      <td>Rosental</td>\n",
       "      <td>18</td>\n",
       "      <td>Rosental</td>\n",
       "    </tr>\n",
       "    <tr>\n",
       "      <th>16</th>\n",
       "      <td>1.286225e+05</td>\n",
       "      <td>17</td>\n",
       "      <td>19</td>\n",
       "      <td>Matthaeus</td>\n",
       "      <td>19</td>\n",
       "      <td>Matthaeus</td>\n",
       "    </tr>\n",
       "    <tr>\n",
       "      <th>9</th>\n",
       "      <td>1.301127e+05</td>\n",
       "      <td>10</td>\n",
       "      <td>10</td>\n",
       "      <td>Iselin</td>\n",
       "      <td>10</td>\n",
       "      <td>Iselin</td>\n",
       "    </tr>\n",
       "    <tr>\n",
       "      <th>12</th>\n",
       "      <td>1.301640e+05</td>\n",
       "      <td>13</td>\n",
       "      <td>13</td>\n",
       "      <td>Clara</td>\n",
       "      <td>13</td>\n",
       "      <td>Clara</td>\n",
       "    </tr>\n",
       "    <tr>\n",
       "      <th>10</th>\n",
       "      <td>1.319428e+05</td>\n",
       "      <td>11</td>\n",
       "      <td>11</td>\n",
       "      <td>St. Johann</td>\n",
       "      <td>11</td>\n",
       "      <td>St. Johann</td>\n",
       "    </tr>\n",
       "    <tr>\n",
       "      <th>3</th>\n",
       "      <td>1.401603e+05</td>\n",
       "      <td>4</td>\n",
       "      <td>4</td>\n",
       "      <td>Breite</td>\n",
       "      <td>4</td>\n",
       "      <td>Breite</td>\n",
       "    </tr>\n",
       "    <tr>\n",
       "      <th>5</th>\n",
       "      <td>1.453460e+05</td>\n",
       "      <td>6</td>\n",
       "      <td>2</td>\n",
       "      <td>Gundeldingen</td>\n",
       "      <td>2</td>\n",
       "      <td>Gundeldingen</td>\n",
       "    </tr>\n",
       "    <tr>\n",
       "      <th>14</th>\n",
       "      <td>1.860717e+05</td>\n",
       "      <td>15</td>\n",
       "      <td>15</td>\n",
       "      <td>Hirzbrunnen</td>\n",
       "      <td>15</td>\n",
       "      <td>Hirzbrunnen</td>\n",
       "    </tr>\n",
       "    <tr>\n",
       "      <th>8</th>\n",
       "      <td>2.299625e+05</td>\n",
       "      <td>9</td>\n",
       "      <td>9</td>\n",
       "      <td>Gotthelf</td>\n",
       "      <td>9</td>\n",
       "      <td>Gotthelf</td>\n",
       "    </tr>\n",
       "    <tr>\n",
       "      <th>11</th>\n",
       "      <td>2.490768e+05</td>\n",
       "      <td>12</td>\n",
       "      <td>12</td>\n",
       "      <td>Altstadt Kleinbasel</td>\n",
       "      <td>12</td>\n",
       "      <td>Altstadt Kleinbasel</td>\n",
       "    </tr>\n",
       "    <tr>\n",
       "      <th>13</th>\n",
       "      <td>2.960222e+05</td>\n",
       "      <td>14</td>\n",
       "      <td>14</td>\n",
       "      <td>Wettstein</td>\n",
       "      <td>14</td>\n",
       "      <td>Wettstein</td>\n",
       "    </tr>\n",
       "    <tr>\n",
       "      <th>7</th>\n",
       "      <td>4.135633e+05</td>\n",
       "      <td>8</td>\n",
       "      <td>5</td>\n",
       "      <td>Bachletten</td>\n",
       "      <td>5</td>\n",
       "      <td>Bachletten</td>\n",
       "    </tr>\n",
       "    <tr>\n",
       "      <th>2</th>\n",
       "      <td>4.354163e+05</td>\n",
       "      <td>3</td>\n",
       "      <td>8</td>\n",
       "      <td>Am Ring</td>\n",
       "      <td>8</td>\n",
       "      <td>Am Ring</td>\n",
       "    </tr>\n",
       "    <tr>\n",
       "      <th>19</th>\n",
       "      <td>6.427047e+05</td>\n",
       "      <td>20</td>\n",
       "      <td>20</td>\n",
       "      <td>Riehen</td>\n",
       "      <td>20</td>\n",
       "      <td>Riehen</td>\n",
       "    </tr>\n",
       "    <tr>\n",
       "      <th>0</th>\n",
       "      <td>1.015165e+06</td>\n",
       "      <td>1</td>\n",
       "      <td>7</td>\n",
       "      <td>Altstadt Grossbasel</td>\n",
       "      <td>7</td>\n",
       "      <td>Altstadt Grossbasel</td>\n",
       "    </tr>\n",
       "    <tr>\n",
       "      <th>4</th>\n",
       "      <td>1.033797e+06</td>\n",
       "      <td>5</td>\n",
       "      <td>3</td>\n",
       "      <td>St. Alban</td>\n",
       "      <td>3</td>\n",
       "      <td>St. Alban</td>\n",
       "    </tr>\n",
       "    <tr>\n",
       "      <th>1</th>\n",
       "      <td>1.392666e+06</td>\n",
       "      <td>2</td>\n",
       "      <td>6</td>\n",
       "      <td>Vorstaedte</td>\n",
       "      <td>6</td>\n",
       "      <td>Vorstaedte</td>\n",
       "    </tr>\n",
       "    <tr>\n",
       "      <th>20</th>\n",
       "      <td>2.359934e+06</td>\n",
       "      <td>30</td>\n",
       "      <td>21</td>\n",
       "      <td>Bettingen</td>\n",
       "      <td>21</td>\n",
       "      <td>Bettingen</td>\n",
       "    </tr>\n",
       "    <tr>\n",
       "      <th>6</th>\n",
       "      <td>2.519406e+06</td>\n",
       "      <td>7</td>\n",
       "      <td>1</td>\n",
       "      <td>Bruderholz</td>\n",
       "      <td>1</td>\n",
       "      <td>Bruderholz</td>\n",
       "    </tr>\n",
       "  </tbody>\n",
       "</table>\n",
       "</div>"
      ],
      "text/plain": [
       "    Assets_percap  wohnviertel_id  geo_wohnviertel_id_x        Wohnviertel_x  \\\n",
       "17   5.924808e+04              18                    17              Klybeck   \n",
       "18   6.863598e+04              19                    16       Kleinhueningen   \n",
       "15   7.696407e+04              16                    18             Rosental   \n",
       "16   1.286225e+05              17                    19            Matthaeus   \n",
       "9    1.301127e+05              10                    10               Iselin   \n",
       "12   1.301640e+05              13                    13                Clara   \n",
       "10   1.319428e+05              11                    11           St. Johann   \n",
       "3    1.401603e+05               4                     4               Breite   \n",
       "5    1.453460e+05               6                     2         Gundeldingen   \n",
       "14   1.860717e+05              15                    15          Hirzbrunnen   \n",
       "8    2.299625e+05               9                     9             Gotthelf   \n",
       "11   2.490768e+05              12                    12  Altstadt Kleinbasel   \n",
       "13   2.960222e+05              14                    14            Wettstein   \n",
       "7    4.135633e+05               8                     5           Bachletten   \n",
       "2    4.354163e+05               3                     8              Am Ring   \n",
       "19   6.427047e+05              20                    20               Riehen   \n",
       "0    1.015165e+06               1                     7  Altstadt Grossbasel   \n",
       "4    1.033797e+06               5                     3            St. Alban   \n",
       "1    1.392666e+06               2                     6           Vorstaedte   \n",
       "20   2.359934e+06              30                    21            Bettingen   \n",
       "6    2.519406e+06               7                     1           Bruderholz   \n",
       "\n",
       "    geo_wohnviertel_id_y        Wohnviertel_y  \n",
       "17                    17              Klybeck  \n",
       "18                    16       Kleinhueningen  \n",
       "15                    18             Rosental  \n",
       "16                    19            Matthaeus  \n",
       "9                     10               Iselin  \n",
       "12                    13                Clara  \n",
       "10                    11           St. Johann  \n",
       "3                      4               Breite  \n",
       "5                      2         Gundeldingen  \n",
       "14                    15          Hirzbrunnen  \n",
       "8                      9             Gotthelf  \n",
       "11                    12  Altstadt Kleinbasel  \n",
       "13                    14            Wettstein  \n",
       "7                      5           Bachletten  \n",
       "2                      8              Am Ring  \n",
       "19                    20               Riehen  \n",
       "0                      7  Altstadt Grossbasel  \n",
       "4                      3            St. Alban  \n",
       "1                      6           Vorstaedte  \n",
       "20                    21            Bettingen  \n",
       "6                      1           Bruderholz  "
      ]
     },
     "execution_count": 67,
     "metadata": {},
     "output_type": "execute_result"
    }
   ],
   "source": [
    "dfSortedAssetsPerCap = dfAssetsPerCap.merge(dfMapWVid_geoID, on=\"wohnviertel_id\").sort_values('Assets_percap')\n",
    "dfSortedAssetsPerCap"
   ]
  },
  {
   "cell_type": "code",
   "execution_count": 68,
   "metadata": {},
   "outputs": [
    {
     "data": {
      "text/plain": [
       "17    5.924808e+04\n",
       "18    1.278841e+05\n",
       "15    2.048481e+05\n",
       "16    3.334706e+05\n",
       "9     4.635834e+05\n",
       "12    5.937474e+05\n",
       "10    7.256902e+05\n",
       "3     8.658504e+05\n",
       "5     1.011196e+06\n",
       "14    1.197268e+06\n",
       "8     1.427231e+06\n",
       "11    1.676308e+06\n",
       "13    1.972330e+06\n",
       "7     2.385893e+06\n",
       "2     2.821309e+06\n",
       "19    3.464014e+06\n",
       "0     4.479179e+06\n",
       "4     5.512975e+06\n",
       "1     6.905642e+06\n",
       "20    9.265575e+06\n",
       "6     1.178498e+07\n",
       "Name: Assets_percap, dtype: float64"
      ]
     },
     "execution_count": 68,
     "metadata": {},
     "output_type": "execute_result"
    }
   ],
   "source": [
    "np.cumsum(dfSortedAssetsPerCap.Assets_percap)"
   ]
  },
  {
   "cell_type": "code",
   "execution_count": 69,
   "metadata": {},
   "outputs": [
    {
     "data": {
      "text/plain": [
       "6     2.519406e+06\n",
       "20    4.879339e+06\n",
       "1     6.272006e+06\n",
       "4     7.305802e+06\n",
       "0     8.320967e+06\n",
       "19    8.963672e+06\n",
       "2     9.399088e+06\n",
       "7     9.812651e+06\n",
       "13    1.010867e+07\n",
       "11    1.035775e+07\n",
       "8     1.058771e+07\n",
       "14    1.077378e+07\n",
       "5     1.091913e+07\n",
       "3     1.105929e+07\n",
       "10    1.119123e+07\n",
       "12    1.132140e+07\n",
       "9     1.145151e+07\n",
       "16    1.158013e+07\n",
       "15    1.165710e+07\n",
       "18    1.172573e+07\n",
       "17    1.178498e+07\n",
       "Name: Assets_percap, dtype: float64"
      ]
     },
     "execution_count": 69,
     "metadata": {},
     "output_type": "execute_result"
    }
   ],
   "source": [
    "np.cumsum(dfSortedAssetsPerCap.Assets_percap[::-1])"
   ]
  },
  {
   "cell_type": "code",
   "execution_count": null,
   "metadata": {},
   "outputs": [],
   "source": []
  },
  {
   "cell_type": "code",
   "execution_count": 71,
   "metadata": {},
   "outputs": [],
   "source": [
    "sps.pearsonr?"
   ]
  },
  {
   "cell_type": "code",
   "execution_count": 73,
   "metadata": {},
   "outputs": [],
   "source": [
    "np.abs?"
   ]
  },
  {
   "cell_type": "code",
   "execution_count": null,
   "metadata": {},
   "outputs": [],
   "source": []
  }
 ],
 "metadata": {
  "kernelspec": {
   "display_name": "Python 3",
   "language": "python",
   "name": "python3"
  },
  "language_info": {
   "codemirror_mode": {
    "name": "ipython",
    "version": 3
   },
   "file_extension": ".py",
   "mimetype": "text/x-python",
   "name": "python",
   "nbconvert_exporter": "python",
   "pygments_lexer": "ipython3",
   "version": "3.6.4"
  },
  "toc": {
   "base_numbering": 1,
   "nav_menu": {},
   "number_sections": true,
   "sideBar": true,
   "skip_h1_title": false,
   "title_cell": "Table of Contents",
   "title_sidebar": "Contents",
   "toc_cell": false,
   "toc_position": {},
   "toc_section_display": true,
   "toc_window_display": false
  },
  "varInspector": {
   "cols": {
    "lenName": 16,
    "lenType": 16,
    "lenVar": 40
   },
   "kernels_config": {
    "python": {
     "delete_cmd_postfix": "",
     "delete_cmd_prefix": "del ",
     "library": "var_list.py",
     "varRefreshCmd": "print(var_dic_list())"
    },
    "r": {
     "delete_cmd_postfix": ") ",
     "delete_cmd_prefix": "rm(",
     "library": "var_list.r",
     "varRefreshCmd": "cat(var_dic_list()) "
    }
   },
   "types_to_exclude": [
    "module",
    "function",
    "builtin_function_or_method",
    "instance",
    "_Feature"
   ],
   "window_display": false
  }
 },
 "nbformat": 4,
 "nbformat_minor": 2
}
